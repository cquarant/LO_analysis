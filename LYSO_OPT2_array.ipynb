{
 "cells": [
  {
   "cell_type": "code",
   "execution_count": 1,
   "id": "8a171321-cb1b-4dad-b619-965f7f877dd6",
   "metadata": {},
   "outputs": [
    {
     "name": "stdout",
     "output_type": "stream",
     "text": [
      "Welcome to JupyROOT 6.24/02\n"
     ]
    }
   ],
   "source": [
    "import ROOT as R"
   ]
  },
  {
   "cell_type": "code",
   "execution_count": 2,
   "id": "f6888bb6-a5a3-49b5-ba9a-157647433b5e",
   "metadata": {},
   "outputs": [],
   "source": [
    "files={}\n",
    "files['MS3']=R.TFile(\"data/MS3.root\")\n",
    "files['OPT2_DRY']=R.TFile(\"data/OPT2/prodAnalysis_c40_OPT2_Jul2022.root\")"
   ]
  },
  {
   "cell_type": "code",
   "execution_count": 3,
   "id": "d2190f00-9430-45a6-92b3-44cf5d73a60b",
   "metadata": {},
   "outputs": [],
   "source": [
    "g={}\n",
    "# g['lyDT']=files['MS3'].Get(\"lyDTArray\")\n",
    "# g['tau']=files['MS3'].Get(\"tau_pmt\")"
   ]
  },
  {
   "cell_type": "code",
   "execution_count": 4,
   "id": "52ea1c18-6827-45b9-a6e7-a63e1678aac2",
   "metadata": {},
   "outputs": [],
   "source": [
    "#missing Prod5\n",
    "arrays={}\n",
    "arrays['MS3_DRY']={\n",
    "    416:{'file':'data/tree_FirstRun005166_LastRun005193_ARRAY000416_THSCAN_SUMMARY.root','prod':1},\n",
    "    586:{'file':'data/tree_FirstRun005226_LastRun005253_ARRAY000586_THSCAN_SUMMARY.root','prod':3},\n",
    "    708:{'file':'data/tree_FirstRun005256_LastRun005283_ARRAY000708_THSCAN_SUMMARY.root','prod':4},\n",
    "    531:{'file':'data/tree_FirstRun005196_LastRun005223_ARRAY000531_THSCAN_SUMMARY.root','prod':5},\n",
    "    606:{'file':'data/tree_FirstRun005292_LastRun005319_ARRAY000606_THSCAN_SUMMARY.root','prod':9},\n",
    "    481:{'file':'data/tree_FirstRun005070_LastRun005097_ARRAY000481_THSCAN_SUMMARY.root','prod':10}\n",
    "}\n",
    "\n",
    "arrays['OPT_DRY']={\n",
    "    809:{'file':'data/tree_FirstRun005907_LastRun005934_ARRAY000809_THSCAN_SUMMARY.root','prod':1},\n",
    "    805:{'file':'data/tree_FirstRun005817_LastRun005844_ARRAY000805_THSCAN_SUMMARY.root','prod':3},\n",
    "    799:{'file':'data/tree_FirstRun005637_LastRun005664_ARRAY000799_THSCAN_SUMMARY.root','prod':4},\n",
    "    801:{'file':'data/tree_FirstRun005697_LastRun005724_ARRAY000801_THSCAN_SUMMARY.root','prod':5},\n",
    "#    800:{'file':'data/tree_FirstRun005667_LastRun005694_ARRAY000800_THSCAN_SUMMARY.root','prod':5},\n",
    "    803:{'file':'data/tree_FirstRun005757_LastRun005784_ARRAY000803_THSCAN_SUMMARY.root','prod':9},\n",
    "    796:{'file':'data/tree_FirstRun005040_LastRun005067_ARRAY000796_THSCAN_SUMMARY.root','prod':10}\n",
    "}\n",
    "\n",
    "map_prod={\n",
    "    1:0,\n",
    "    3:1,\n",
    "    4:2,\n",
    "    5:3,\n",
    "    9:4,\n",
    "    10:5\n",
    "}"
   ]
  },
  {
   "cell_type": "code",
   "execution_count": 5,
   "id": "17641c81-b160-4621-86af-0489998c413d",
   "metadata": {},
   "outputs": [],
   "source": [
    "sigmaTvsTH=R.TF1(\"sigmaTvsTH\",\"TMath::Sqrt([0]*[0]/TMath::Power(x,[1])+[2]*[2]*TMath::Power(x,[3]))\",0,1000)\n",
    "sigmaTvsTH.SetParameter(0,5.67032e+04)\n",
    "sigmaTvsTH.SetParameter(2,6.21645e+01)\n",
    "sigmaTvsTH.SetParLimits(1,0.,5)\n",
    "sigmaTvsTH.SetParLimits(3,0,5)\n",
    "sigmaTvsTH.SetParameter(1,3.1)\n",
    "sigmaTvsTH.SetParameter(3,0.3)"
   ]
  },
  {
   "cell_type": "code",
   "execution_count": 6,
   "id": "c49a7759",
   "metadata": {},
   "outputs": [
    {
     "name": "stdout",
     "output_type": "stream",
     "text": [
      "416 130.77797346170925 2620.858943799735 75.60170030191543\n",
      "586 132.34572119194485 2532.1213829811204 73.04196297060925\n",
      "708 138.02099843621147 2473.123223083949 71.34009297357545\n",
      "531 125.61110587867933 2862.7417013010313 82.57908753752974\n",
      "606 130.2758141396899 2667.23556295393 76.93948739290184\n",
      "481 124.0820169000153 2736.916621199681 78.94951791922156\n",
      "809 128.6561909778912 2586.2210430065907 74.60253008672858\n",
      "805 131.24874140253408 2757.3256601905086 79.53824019780313\n",
      "799 134.05100514352972 2488.6689030857056 71.7885260505492\n",
      "801 121.66715924027287 2695.0267306062005 77.74115569056347\n",
      "803 127.16445128059303 2697.9662164230003 77.82594855066347\n",
      "796 119.29640277520008 2867.018319879154 82.7024515349756\n",
      " FCN=0.547109 FROM HESSE     STATUS=OK             23 CALLS        1168 TOTAL\n",
      "                     EDM=1.16347e-06    STRATEGY= 1      ERROR MATRIX ACCURATE \n",
      "  EXT PARAMETER                                   STEP         FIRST   \n",
      "  NO.   NAME      VALUE            ERROR          SIZE      DERIVATIVE \n",
      "   1  p0           4.72167e+03   2.43242e+04   2.88657e-02  -2.56844e-06\n",
      "   2  p1           1.73129e+00   3.36047e+00   1.09104e-06   6.36125e-02\n",
      "   3  p2           2.51102e+01   1.19340e+02   5.52937e-05  -6.52530e-04\n",
      "   4  p3           6.11231e-01   2.74437e+00   5.30210e-07  -6.53541e-02\n",
      " FCN=0.19269 FROM MIGRAD    STATUS=CONVERGED     521 CALLS         522 TOTAL\n",
      "                     EDM=4.6155e-07    STRATEGY= 1      ERROR MATRIX ACCURATE \n",
      "  EXT PARAMETER                                   STEP         FIRST   \n",
      "  NO.   NAME      VALUE            ERROR          SIZE      DERIVATIVE \n",
      "   1  p0          -4.54745e+03   1.72140e+04   1.31259e-01  -8.88917e-07\n",
      "   2  p1           1.75410e+00   1.82382e+00   5.20838e-06  -2.71638e-02\n",
      "   3  p2           2.60573e+01   8.14308e+01   2.13354e-04   1.70128e-03\n",
      "   4  p3           6.14101e-01   1.03478e+00   1.97031e-06   1.91372e-01\n",
      " FCN=0.163122 FROM MIGRAD    STATUS=CONVERGED     554 CALLS         555 TOTAL\n",
      "                     EDM=1.70286e-07    STRATEGY= 1      ERROR MATRIX ACCURATE \n",
      "  EXT PARAMETER                                   STEP         FIRST   \n",
      "  NO.   NAME      VALUE            ERROR          SIZE      DERIVATIVE \n",
      "   1  p0           9.99299e+03   4.49440e+04   3.07617e-01   9.60275e-07\n",
      "   2  p1           2.18870e+00   2.05706e+00   5.67088e-06  -5.23237e-02\n",
      "   3  p2           4.65276e+01   8.65219e+01   2.98232e-04   6.19174e-04\n",
      "   4  p3           4.22781e-01   6.51011e-01   1.84391e-06   9.32103e-02\n",
      " FCN=0.221549 FROM HESSE     STATUS=OK             23 CALLS         914 TOTAL\n",
      "                     EDM=1.99557e-06    STRATEGY= 1      ERROR MATRIX ACCURATE \n",
      "  EXT PARAMETER                                   STEP         FIRST   \n",
      "  NO.   NAME      VALUE            ERROR          SIZE      DERIVATIVE \n",
      "   1  p0           7.24340e+03   1.70076e+04   2.78469e-02  -8.48862e-07\n",
      "   2  p1           1.90262e+00   1.18609e+00   6.77459e-07   3.16439e-02\n",
      "   3  p2           1.62944e+01   4.01054e+01   2.28942e-05  -7.56056e-04\n",
      "   4  p3           7.64130e-01   8.49135e-01   3.05965e-07  -6.19903e-02\n",
      " FCN=0.139791 FROM MIGRAD    STATUS=CONVERGED     706 CALLS         707 TOTAL\n",
      "                     EDM=4.40334e-07    STRATEGY= 1      ERROR MATRIX ACCURATE \n",
      "  EXT PARAMETER                                   STEP         FIRST   \n",
      "  NO.   NAME      VALUE            ERROR          SIZE      DERIVATIVE \n",
      "   1  p0          -3.10274e+03   1.04716e+04   8.83959e-02   3.05308e-06\n",
      "   2  p1           1.60877e+00   1.69630e+00   5.19370e-06   5.67179e-02\n",
      "   3  p2           3.41076e+01   8.75911e+01   2.34803e-04  -1.69049e-03\n",
      "   4  p3           5.03241e-01   8.50333e-01   1.78585e-06  -2.23993e-01\n",
      " FCN=0.500252 FROM MIGRAD    STATUS=CALL LIMIT   1486 CALLS        1487 TOTAL\n",
      "                     EDM=0.00128373    STRATEGY= 1  ERROR MATRIX UNCERTAINTY   8.6 per cent\n",
      "  EXT PARAMETER                APPROXIMATE        STEP         FIRST   \n",
      "  NO.   NAME      VALUE            ERROR          SIZE      DERIVATIVE \n",
      "   1  p0          -1.39032e+03   1.18953e+03   1.80730e+01   6.35981e-04\n",
      "   2  p1           1.16152e+00   4.09495e-01  -3.76759e-03   5.00064e+00\n",
      "   3  p2           8.12493e+00   7.01646e+00  -2.34784e-01  -3.21470e-01\n",
      "   4  p3           1.00126e+00   2.89965e-01   4.84839e-03  -1.41614e+01\n",
      " FCN=0.25774 FROM MIGRAD    STATUS=CONVERGED    1483 CALLS        1484 TOTAL\n",
      "                     EDM=5.76787e-07    STRATEGY= 1      ERROR MATRIX ACCURATE \n",
      "  EXT PARAMETER                                   STEP         FIRST   \n",
      "  NO.   NAME      VALUE            ERROR          SIZE      DERIVATIVE \n",
      "   1  p0           3.52507e+04   1.83882e+05   1.91105e+00  -1.37458e-07\n",
      "   2  p1           2.91367e+00   3.72046e+00   1.31067e-05   2.71814e-02\n",
      "   3  p2           6.84502e+01   6.03332e+01   4.16330e-04  -1.26137e-03\n",
      "   4  p3           2.51351e-01   3.21674e-01   2.19876e-06  -2.36973e-01\n",
      " FCN=0.216553 FROM MIGRAD    STATUS=CALL LIMIT   1481 CALLS        1482 TOTAL\n",
      "                     EDM=2.9784e-05    STRATEGY= 1  ERROR MATRIX UNCERTAINTY  18.6 per cent\n",
      "  EXT PARAMETER                APPROXIMATE        STEP         FIRST   \n",
      "  NO.   NAME      VALUE            ERROR          SIZE      DERIVATIVE \n",
      "   1  p0           2.59413e+03   3.01877e+03  -7.62696e-01   4.48381e-06\n",
      "   2  p1           1.40320e+00   6.09605e-01  -1.70292e-04   1.74600e-02\n",
      "   3  p2           8.77302e+00   1.53798e+01  -2.47758e-02  -2.05389e-02\n",
      "   4  p3           1.00015e+00   6.02687e-01   5.06460e-04  -9.95480e-01\n",
      " FCN=0.2472 FROM MIGRAD    STATUS=CALL LIMIT   1483 CALLS        1484 TOTAL\n",
      "                     EDM=0.00427989    STRATEGY= 1      ERR MATRIX NOT POS-DEF\n",
      "  EXT PARAMETER                APPROXIMATE        STEP         FIRST   \n",
      "  NO.   NAME      VALUE            ERROR          SIZE      DERIVATIVE \n",
      "   1  p0           8.48810e+03   1.23512e+04   5.36618e+02  -9.08018e-05\n",
      "   2  p1           2.20021e+00   8.07285e-01   1.47290e-02   4.18684e+00\n",
      "   3  p2           6.35106e+01   2.85285e+01   9.84408e-01  -1.20940e-01\n",
      "   4  p3           2.89599e-01   1.66964e-01  -4.74486e-03  -2.23193e+01\n",
      " FCN=1.26207 FROM MIGRAD    STATUS=CONVERGED     562 CALLS         563 TOTAL\n",
      "                     EDM=4.38388e-06    STRATEGY= 1      ERROR MATRIX ACCURATE \n",
      "  EXT PARAMETER                                   STEP         FIRST   \n",
      "  NO.   NAME      VALUE            ERROR          SIZE      DERIVATIVE \n",
      "   1  p0           1.03551e+04   4.84357e+04   3.95686e-01  -1.10099e-06\n",
      "   2  p1           2.16383e+00   2.08301e+00   6.64499e-06   6.03250e-02\n",
      "   3  p2           3.05929e+01   8.17803e+01   2.58095e-04  -1.46594e-05\n",
      "   4  p3           5.27289e-01   9.01702e-01   2.17025e-06   4.93562e-03\n",
      " FCN=0.302182 FROM HESSE     STATUS=OK             23 CALLS         668 TOTAL\n",
      "                     EDM=3.13609e-07    STRATEGY= 1      ERROR MATRIX ACCURATE \n",
      "  EXT PARAMETER                                   STEP         FIRST   \n",
      "  NO.   NAME      VALUE            ERROR          SIZE      DERIVATIVE \n",
      "   1  p0           6.65730e+03   2.53360e+04   4.09087e-02  -1.31108e-06\n",
      "   2  p1           1.94558e+00   1.80226e+00   1.09602e-06   5.31678e-02\n",
      "   3  p2           2.62983e+01   6.47854e+01   4.10676e-05  -2.05306e-03\n",
      "   4  p3           6.01497e-01   8.41695e-01   3.77464e-07  -2.24805e-01\n",
      " FCN=0.602765 FROM MIGRAD    STATUS=CONVERGED     661 CALLS         662 TOTAL\n",
      "                     EDM=2.01326e-06    STRATEGY= 1      ERROR MATRIX ACCURATE \n",
      "  EXT PARAMETER                                   STEP         FIRST   \n",
      "  NO.   NAME      VALUE            ERROR          SIZE      DERIVATIVE \n",
      "   1  p0          -3.62954e+03   1.13202e+04   1.24026e-01   4.43276e-06\n",
      "   2  p1           1.72470e+00   1.57401e+00   6.11108e-06   8.47234e-02\n",
      "   3  p2           2.54440e+01   5.74572e+01   1.97427e-04   9.38252e-05\n",
      "   4  p3           5.97193e-01   7.77662e-01   1.88817e-06   3.39647e-02\n"
     ]
    },
    {
     "name": "stderr",
     "output_type": "stream",
     "text": [
      "Warning in <Fit>: Abnormal termination of minimization.\n",
      "Warning in <Fit>: Abnormal termination of minimization.\n",
      "Warning in <Fit>: Abnormal termination of minimization.\n"
     ]
    }
   ],
   "source": [
    "for tag in ['MS3_DRY','OPT_DRY','OPT2_DRY']:\n",
    "    for t in ['LY','sigmaT','XT','SR']:\n",
    "        g['%s_%s'%(t,tag)]=R.TGraphErrors(len(map_prod))\n",
    "\n",
    "for tag in ['MS3_DRY','OPT_DRY']:\n",
    "    for ia,ar in enumerate(arrays[tag]):\n",
    "        files[ar]=R.TFile(arrays[tag][ar]['file'])\n",
    "        g['SR_%d'%ar]=files[ar].Get('DT_vs_bar')\n",
    "        g['sigmaT_%d'%ar]=files[ar].Get('sigmaT_vs_bar')\n",
    "        g['LY_%d'%ar]=files[ar].Get('LY_vs_bar')\n",
    "        g['XT_%d'%ar]=files[ar].Get('XT_vs_bar')\n",
    "        iv=map_prod[arrays[tag][ar]['prod']]\n",
    "        pos=iv\n",
    "        if ('OPT' in tag):\n",
    "            pos+=0.1\n",
    "        sigmaTvsTH.SetParameter(0,5.67032e+04)\n",
    "        sigmaTvsTH.SetParameter(2,6.21645e+01)\n",
    "        g['sigmaT_%d'%ar].Fit(sigmaTvsTH,\"BR\")\n",
    "        sr=1./g['SR_%d'%ar].GetFunction('pol2').Derivative(150)*1000\n",
    "        ly=R.TMath.Mean(g['LY_%d'%ar].GetN(),g['LY_%d'%ar].GetY())*2600/75.\n",
    "        xt=R.TMath.Mean(g['XT_%d'%ar].GetN(),g['XT_%d'%ar].GetY())\n",
    "        #sigmaT=sigmaTvsTH.GetMinimum()\n",
    "        sigmaT=R.TMath.MinElement(g['sigmaT_%d'%ar].GetN(),g['sigmaT_%d'%ar].GetY())\n",
    "        print(ar,sigmaT,ly,ly*75/2600.)\n",
    "        g['SR_%s'%tag].SetPoint(iv,pos,sr)\n",
    "        g['SR_%s'%tag].SetPointError(iv,0,sr*0.02)\n",
    "        g['LY_%s'%tag].SetPoint(iv,pos,ly)\n",
    "        g['LY_%s'%tag].SetPointError(iv,0,ly*0.03)\n",
    "        g['sigmaT_%s'%tag].SetPoint(iv,pos,sigmaT)\n",
    "        g['sigmaT_%s'%tag].SetPointError(iv,0,4.)\n",
    "        g['XT_%s'%tag].SetPoint(iv,pos,xt)\n",
    "        g['XT_%s'%tag].SetPointError(iv,0,0.01)"
   ]
  },
  {
   "cell_type": "code",
   "execution_count": 15,
   "id": "9c5e8076",
   "metadata": {},
   "outputs": [
    {
     "name": "stdout",
     "output_type": "stream",
     "text": [
      "1 2718.100334992136 0.14772512551904757 125.52457015614546\n",
      "5 2586.8269925904915 0.07967715312976191 122.85373897651863\n",
      "10 2981.459949527281 0.10598721088452383 133.01148058081446\n"
     ]
    }
   ],
   "source": [
    "for tag in ['OPT2_DRY']:\n",
    "    opt2_ly_histos = files['OPT2_DRY']\n",
    "    ly_gr = opt2_ly_histos.Get('ly_byProd_geo2_PREIRR')\n",
    "    xt_gr = opt2_ly_histos.Get('xt_byProd_geo2_PREIRR')\n",
    "    sigmaT_gr = opt2_ly_histos.Get('sigmaT_byProd_geo2_PREIRR')\n",
    "#     c0=R.TCanvas('c0','c0',800,600)\n",
    "#     c0.cd()\n",
    "#     ly_gr.Draw()\n",
    "#     c0.Draw()\n",
    "    \n",
    "    gr_map_prod ={1:0, 5:4, 10:8}\n",
    "    for prod in [1,5,10]:\n",
    "        iv=map_prod[prod]\n",
    "        pos=iv+0.2\n",
    "        \n",
    "        ly=ly_gr.GetPointY(gr_map_prod[prod])*2600/75\n",
    "        xt=xt_gr.GetPointY(gr_map_prod[prod]) \n",
    "        sigmaT=sigmaT_gr.GetPointY(gr_map_prod[prod]) \n",
    "        print(prod, ly, xt, sigmaT)\n",
    "        g['LY_%s'%tag].SetPoint(iv,pos,ly)\n",
    "        g['LY_%s'%tag].SetPointError(iv,0,ly*0.03)\n",
    "        g['sigmaT_%s'%tag].SetPoint(iv,pos,sigmaT)\n",
    "        g['sigmaT_%s'%tag].SetPointError(iv,0,4.)\n",
    "        g['XT_%s'%tag].SetPoint(iv,pos,xt)\n",
    "        g['XT_%s'%tag].SetPointError(iv,0,0.01)\n",
    "     "
   ]
  },
  {
   "cell_type": "code",
   "execution_count": 16,
   "id": "b4a1ac93-f0ff-4022-8515-f5637c0b88ad",
   "metadata": {},
   "outputs": [
    {
     "name": "stderr",
     "output_type": "stream",
     "text": [
      "Warning in <TCanvas::Constructor>: Deleting canvas with same name: c1\n"
     ]
    }
   ],
   "source": [
    "c1=R.TCanvas('c1','c1',800,600)\n",
    "l=R.TLegend(0.8,0.75,0.9,0.88)\n",
    "l.SetFillColorAlpha(0,0)\n",
    "l.SetBorderSize(0)\n",
    "l.SetTextSize(0.04)\n",
    "\n",
    "tL=R.TLatex()#pm                                                                                                                               \n",
    "tL.SetTextSize(0.04)\n",
    "R.gStyle.SetOptTitle(0)"
   ]
  },
  {
   "cell_type": "code",
   "execution_count": 17,
   "id": "f3068f38-b5e3-439b-b65a-e66ec309ca8d",
   "metadata": {},
   "outputs": [],
   "source": [
    "for k in ['MS3_DRY','OPT_DRY','OPT2_DRY']:\n",
    "    for h in ['LY','SR','sigmaT','XT']:\n",
    "        g['%s_%s'%(h,k)].GetHistogram().SetBins(6,-0.5,6-0.5)\n",
    "        for kk,vendor in enumerate([1,3,4,5,9,10]):\n",
    "            g['%s_%s'%(h,k)].GetHistogram().GetXaxis().SetBinLabel(kk+1,'prod%d'%vendor)"
   ]
  },
  {
   "cell_type": "code",
   "execution_count": 18,
   "id": "0a5bfd58-5f11-42ba-8aff-c460e9dfd7a3",
   "metadata": {},
   "outputs": [
    {
     "name": "stdout",
     "output_type": "stream",
     "text": [
      "x[0]=0, y[0]=2620.86, ex[0]=0, ey[0]=78.6258\n",
      "x[1]=1, y[1]=2532.12, ex[1]=0, ey[1]=75.9636\n",
      "x[2]=2, y[2]=2473.12, ex[2]=0, ey[2]=74.1937\n",
      "x[3]=3, y[3]=2862.74, ex[3]=0, ey[3]=85.8823\n",
      "x[4]=4, y[4]=2667.24, ex[4]=0, ey[4]=80.0171\n",
      "x[5]=5, y[5]=2736.92, ex[5]=0, ey[5]=82.1075\n"
     ]
    },
    {
     "name": "stderr",
     "output_type": "stream",
     "text": [
      "Info in <TCanvas::Print>: png file plots/LYSO_OPT_LY_ARRAY_DRY_byProd.png has been created\n",
      "Info in <TCanvas::Print>: pdf file plots/LYSO_OPT_LY_ARRAY_DRY_byProd.pdf has been created\n"
     ]
    },
    {
     "data": {
      "image/png": "[encoded data removed]",
      "text/plain": [
       "<IPython.core.display.Image object>"
      ]
     },
     "metadata": {},
     "output_type": "display_data"
    }
   ],
   "source": [
    "l.Clear()\n",
    "g['LY_MS3_DRY'].Print()\n",
    "g['LY_MS3_DRY'].Draw(\"AP*\")\n",
    "l.AddEntry(g['LY_MS3_DRY'],\"MS3\",\"PL\")\n",
    "g['LY_MS3_DRY'].GetHistogram().GetYaxis().SetLimits(2000,4000)\n",
    "g['LY_MS3_DRY'].GetHistogram().GetYaxis().SetRangeUser(2000,4000)\n",
    "g['LY_MS3_DRY'].GetHistogram().GetYaxis().SetTitle(\"LO (ph/MeV)\")\n",
    "g['LY_OPT_DRY'].SetMarkerStyle(24)\n",
    "g['LY_OPT_DRY'].SetMarkerSize(1.2)\n",
    "l.AddEntry(g['LY_OPT_DRY'],\"OPT\",\"PL\")\n",
    "g['LY_OPT_DRY'].Draw(\"PSAME\")\n",
    "g['LY_OPT2_DRY'].SetMarkerStyle(22)\n",
    "g['LY_OPT2_DRY'].SetMarkerSize(1.2)\n",
    "l.AddEntry(g['LY_OPT2_DRY'],\"OPT2\",\"PL\")\n",
    "g['LY_OPT2_DRY'].Draw(\"PSAME\")\n",
    "l.Draw()\n",
    "tL.DrawLatexNDC(0.11,0.92,'CMS MTD - POST MS3 Optimisation - Array dry coupling')\n",
    "tL.DrawLatexNDC(0.15,0.83,'<MS3> = %.0f ph/MeV'%(R.TMath.Mean(6,g['LY_MS3_DRY'].GetY())))\n",
    "tL.DrawLatexNDC(0.15,0.79,'<OPT> = %.0f ph/MeV'%(R.TMath.Mean(6,g['LY_OPT_DRY'].GetY())))\n",
    "tL.DrawLatexNDC(0.15,0.75,'<OPT2> = %.0f ph/MeV'%(R.TMath.Mean(6,g['LY_OPT2_DRY'].GetY())*2))#multiply by 2 because half of elements are empty\n",
    "c1.Draw()\n",
    "for ext in ['png','pdf']:\n",
    "    c1.SaveAs('plots/LYSO_OPT_LY_ARRAY_DRY_byProd.%s'%ext)"
   ]
  },
  {
   "cell_type": "code",
   "execution_count": 19,
   "id": "22570826-83dc-493b-a245-f5687b607a69",
   "metadata": {},
   "outputs": [
    {
     "name": "stdout",
     "output_type": "stream",
     "text": [
      "x[0]=0, y[0]=130.778, ex[0]=0, ey[0]=4\n",
      "x[1]=1, y[1]=132.346, ex[1]=0, ey[1]=4\n",
      "x[2]=2, y[2]=138.021, ex[2]=0, ey[2]=4\n",
      "x[3]=3, y[3]=125.611, ex[3]=0, ey[3]=4\n",
      "x[4]=4, y[4]=130.276, ex[4]=0, ey[4]=4\n",
      "x[5]=5, y[5]=124.082, ex[5]=0, ey[5]=4\n"
     ]
    },
    {
     "name": "stderr",
     "output_type": "stream",
     "text": [
      "Info in <TCanvas::Print>: png file plots/LYSO_OPT_sigmaT_ARRAY_DRY_byProd.png has been created\n",
      "Info in <TCanvas::Print>: pdf file plots/LYSO_OPT_sigmaT_ARRAY_DRY_byProd.pdf has been created\n"
     ]
    },
    {
     "data": {
      "image/png": "[encoded data removed]",
      "text/plain": [
       "<IPython.core.display.Image object>"
      ]
     },
     "metadata": {},
     "output_type": "display_data"
    }
   ],
   "source": [
    "g['sigmaT_MS3_DRY'].Print()\n",
    "g['sigmaT_MS3_DRY'].Draw(\"AP*\")\n",
    "g['sigmaT_MS3_DRY'].GetHistogram().GetYaxis().SetLimits(100,150)\n",
    "g['sigmaT_MS3_DRY'].GetHistogram().GetYaxis().SetRangeUser(100,155)\n",
    "g['sigmaT_MS3_DRY'].GetHistogram().GetYaxis().SetTitle(\"#sigma_{t} (ps)\")\n",
    "g['sigmaT_OPT_DRY'].SetMarkerStyle(24)\n",
    "g['sigmaT_OPT_DRY'].SetMarkerSize(1.2)\n",
    "g['sigmaT_OPT_DRY'].Draw(\"PSAME\")\n",
    "g['sigmaT_OPT2_DRY'].SetMarkerStyle(22)\n",
    "g['sigmaT_OPT2_DRY'].SetMarkerSize(1.2)\n",
    "g['sigmaT_OPT2_DRY'].Draw(\"PSAME\")\n",
    "l.Draw()\n",
    "tL.DrawLatexNDC(0.11,0.92,'CMS MTD - POST MS3 Optimisation - Array Dry coupling')\n",
    "tL.DrawLatexNDC(0.15,0.83,'<MS3> = %.0f ps'%(R.TMath.Mean(6,g['sigmaT_MS3_DRY'].GetY())))\n",
    "tL.DrawLatexNDC(0.15,0.79,'<OPT> = %.0f ps'%(R.TMath.Mean(6,g['sigmaT_OPT_DRY'].GetY())))\n",
    "tL.DrawLatexNDC(0.15,0.75,'<OPT2> = %.0f ps'%(R.TMath.Mean(6,g['sigmaT_OPT2_DRY'].GetY())*2))#multiply by 2 because half of elements are empty\n",
    "c1.Draw()\n",
    "for ext in ['png','pdf']:\n",
    "    c1.SaveAs('plots/LYSO_OPT_sigmaT_ARRAY_DRY_byProd.%s'%ext)"
   ]
  },
  {
   "cell_type": "code",
   "execution_count": 20,
   "id": "d31de83c-8d8d-4cd0-8303-fb9afdd98cf6",
   "metadata": {
    "scrolled": false
   },
   "outputs": [
    {
     "name": "stdout",
     "output_type": "stream",
     "text": [
      "x[0]=0, y[0]=0.0138488, ex[0]=0, ey[0]=0.01\n",
      "x[1]=1, y[1]=0.0455465, ex[1]=0, ey[1]=0.01\n",
      "x[2]=2, y[2]=0.0709276, ex[2]=0, ey[2]=0.01\n",
      "x[3]=3, y[3]=0.0865404, ex[3]=0, ey[3]=0.01\n",
      "x[4]=4, y[4]=0.0218292, ex[4]=0, ey[4]=0.01\n",
      "x[5]=5, y[5]=0.0186736, ex[5]=0, ey[5]=0.01\n"
     ]
    },
    {
     "name": "stderr",
     "output_type": "stream",
     "text": [
      "Info in <TCanvas::Print>: png file plots/LYSO_OPT_XT_ARRAY_DRY_byProd.png has been created\n",
      "Info in <TCanvas::Print>: pdf file plots/LYSO_OPT_XT_ARRAY_DRY_byProd.pdf has been created\n"
     ]
    },
    {
     "data": {
      "image/png": "[encoded data removed]",
      "text/plain": [
       "<IPython.core.display.Image object>"
      ]
     },
     "metadata": {},
     "output_type": "display_data"
    }
   ],
   "source": [
    "g['XT_MS3_DRY'].Print()\n",
    "g['XT_MS3_DRY'].Draw(\"AP*\")\n",
    "g['XT_MS3_DRY'].GetHistogram().GetYaxis().SetLimits(0.000001,0.5)\n",
    "g['XT_MS3_DRY'].GetHistogram().GetYaxis().SetRangeUser(0.000001,0.25)\n",
    "g['XT_MS3_DRY'].GetHistogram().GetYaxis().SetTitle(\"XT\")\n",
    "g['XT_OPT_DRY'].SetMarkerStyle(24)\n",
    "g['XT_OPT_DRY'].SetMarkerSize(1.2)\n",
    "g['XT_OPT_DRY'].Draw(\"PSAME\")\n",
    "g['XT_OPT2_DRY'].SetMarkerStyle(22)\n",
    "g['XT_OPT2_DRY'].SetMarkerSize(1.2)\n",
    "g['XT_OPT2_DRY'].Draw(\"PSAME\")\n",
    "l.Draw()\n",
    "tL.DrawLatexNDC(0.11,0.92,'CMS MTD - POST MS3 Optimisation - Array Dry coupling')\n",
    "\n",
    "c1.Draw()\n",
    "for ext in ['png','pdf']:\n",
    "    c1.SaveAs('plots/LYSO_OPT_XT_ARRAY_DRY_byProd.%s'%ext)"
   ]
  },
  {
   "cell_type": "code",
   "execution_count": 21,
   "id": "a8100d21-d680-4df6-b6f8-038778a36647",
   "metadata": {},
   "outputs": [
    {
     "name": "stdout",
     "output_type": "stream",
     "text": [
      "x[0]=0, y[0]=276.448, ex[0]=0, ey[0]=5.52896\n",
      "x[1]=1, y[1]=277.934, ex[1]=0, ey[1]=5.55869\n",
      "x[2]=2, y[2]=270.587, ex[2]=0, ey[2]=5.41174\n",
      "x[3]=3, y[3]=279.149, ex[3]=0, ey[3]=5.58298\n",
      "x[4]=4, y[4]=275.991, ex[4]=0, ey[4]=5.51983\n",
      "x[5]=5, y[5]=283.418, ex[5]=0, ey[5]=5.66836\n"
     ]
    },
    {
     "name": "stderr",
     "output_type": "stream",
     "text": [
      "Info in <TCanvas::Print>: png file plots/LYSO_OPT_SR_ARRAY_DRY_byProd.png has been created\n",
      "Info in <TCanvas::Print>: pdf file plots/LYSO_OPT_SR_ARRAY_DRY_byProd.pdf has been created\n"
     ]
    },
    {
     "data": {
      "image/png": "[encoded data removed]",
      "text/plain": [
       "<IPython.core.display.Image object>"
      ]
     },
     "metadata": {},
     "output_type": "display_data"
    }
   ],
   "source": [
    "g['SR_MS3_DRY'].Print()\n",
    "g['SR_MS3_DRY'].Draw(\"AP*\")\n",
    "g['SR_MS3_DRY'].GetHistogram().GetYaxis().SetLimits(200,400)\n",
    "g['SR_MS3_DRY'].GetHistogram().GetYaxis().SetRangeUser(200,400)\n",
    "g['SR_MS3_DRY'].GetHistogram().GetYaxis().SetTitle(\"SR (mV/ns)\")\n",
    "g['SR_OPT_DRY'].SetMarkerStyle(24)\n",
    "g['SR_OPT_DRY'].SetMarkerSize(1.2)\n",
    "g['SR_OPT_DRY'].Draw(\"PSAME\")\n",
    "l.Draw()\n",
    "tL.DrawLatexNDC(0.11,0.92,'CMS MTD - POST MS3 Optimisation - Array Dry coupling')\n",
    "\n",
    "c1.Draw()\n",
    "for ext in ['png','pdf']:\n",
    "    c1.SaveAs('plots/LYSO_OPT_SR_ARRAY_DRY_byProd.%s'%ext)"
   ]
  },
  {
   "cell_type": "code",
   "execution_count": 22,
   "id": "412cc606-aa23-4fec-9311-40ae1e2f0c21",
   "metadata": {},
   "outputs": [],
   "source": [
    "fOut=R.TFile('LYSO_ARRAY_DRY_OPT_OPT2.root','RECREATE')\n",
    "for hn,h in g.items():\n",
    "    h.Write(hn)\n",
    "fOut.Close()"
   ]
  },
  {
   "cell_type": "code",
   "execution_count": null,
   "id": "f8cc8348",
   "metadata": {},
   "outputs": [],
   "source": []
  }
 ],
 "metadata": {
  "kernelspec": {
   "display_name": "Python 3 (ipykernel)",
   "language": "python",
   "name": "python3"
  },
  "language_info": {
   "codemirror_mode": {
    "name": "ipython",
    "version": 3
   },
   "file_extension": ".py",
   "mimetype": "text/x-python",
   "name": "python",
   "nbconvert_exporter": "python",
   "pygments_lexer": "ipython3",
   "version": "3.8.10"
  }
 },
 "nbformat": 4,
 "nbformat_minor": 5
}
