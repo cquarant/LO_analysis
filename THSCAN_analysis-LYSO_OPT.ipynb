{
 "cells": [
  {
   "cell_type": "code",
   "execution_count": 1,
   "id": "8a171321-cb1b-4dad-b619-965f7f877dd6",
   "metadata": {},
   "outputs": [
    {
     "name": "stdout",
     "output_type": "stream",
     "text": [
      "Welcome to JupyROOT 6.24/00\n"
     ]
    }
   ],
   "source": [
    "import ROOT as R"
   ]
  },
  {
   "cell_type": "code",
   "execution_count": 2,
   "id": "f6888bb6-a5a3-49b5-ba9a-157647433b5e",
   "metadata": {},
   "outputs": [],
   "source": [
    "files={}\n",
    "files['MS3']=R.TFile(\"data/MS3.root\")"
   ]
  },
  {
   "cell_type": "code",
   "execution_count": 3,
   "id": "d2190f00-9430-45a6-92b3-44cf5d73a60b",
   "metadata": {},
   "outputs": [],
   "source": [
    "g={}\n",
    "g['lyDT']=files['MS3'].Get(\"lyDTArray\")\n",
    "g['tau']=files['MS3'].Get(\"tau_pmt\")"
   ]
  },
  {
   "cell_type": "code",
   "execution_count": 4,
   "id": "52ea1c18-6827-45b9-a6e7-a63e1678aac2",
   "metadata": {},
   "outputs": [],
   "source": [
    "#missing Prod5\n",
    "arrays={}\n",
    "arrays['MS3_DRY']={\n",
    "    416:{'file':'data/tree_FirstRun005166_LastRun005193_ARRAY000416_THSCAN_SUMMARY.root','prod':1},\n",
    "    586:{'file':'data/tree_FirstRun005226_LastRun005253_ARRAY000586_THSCAN_SUMMARY.root','prod':3},\n",
    "    708:{'file':'data/tree_FirstRun005256_LastRun005283_ARRAY000708_THSCAN_SUMMARY.root','prod':4},\n",
    "    531:{'file':'data/tree_FirstRun005196_LastRun005223_ARRAY000531_THSCAN_SUMMARY.root','prod':5},\n",
    "    606:{'file':'data/tree_FirstRun005292_LastRun005319_ARRAY000606_THSCAN_SUMMARY.root','prod':9},\n",
    "    481:{'file':'data/tree_FirstRun005070_LastRun005097_ARRAY000481_THSCAN_SUMMARY.root','prod':10}\n",
    "}\n",
    "\n",
    "arrays['OPT_DRY']={\n",
    "    809:{'file':'data/tree_FirstRun005907_LastRun005934_ARRAY000809_THSCAN_SUMMARY.root','prod':1},\n",
    "    805:{'file':'data/tree_FirstRun005817_LastRun005844_ARRAY000805_THSCAN_SUMMARY.root','prod':3},\n",
    "    799:{'file':'data/tree_FirstRun005637_LastRun005664_ARRAY000799_THSCAN_SUMMARY.root','prod':4},\n",
    "    801:{'file':'data/tree_FirstRun005697_LastRun005724_ARRAY000801_THSCAN_SUMMARY.root','prod':5},\n",
    "#    800:{'file':'data/tree_FirstRun005667_LastRun005694_ARRAY000800_THSCAN_SUMMARY.root','prod':5},\n",
    "    803:{'file':'data/tree_FirstRun005757_LastRun005784_ARRAY000803_THSCAN_SUMMARY.root','prod':9},\n",
    "    796:{'file':'data/tree_FirstRun005040_LastRun005067_ARRAY000796_THSCAN_SUMMARY.root','prod':10}\n",
    "}\n",
    "\n",
    "map_prod={\n",
    "    1:0,\n",
    "    3:1,\n",
    "    4:2,\n",
    "    5:3,\n",
    "    9:4,\n",
    "    10:5\n",
    "}"
   ]
  },
  {
   "cell_type": "code",
   "execution_count": 5,
   "id": "17641c81-b160-4621-86af-0489998c413d",
   "metadata": {},
   "outputs": [],
   "source": [
    "sigmaTvsTH=R.TF1(\"sigmaTvsTH\",\"TMath::Sqrt([0]*[0]/TMath::Power(x,[1])+[2]*[2]*TMath::Power(x,[3]))\",0,1000)\n",
    "sigmaTvsTH.SetParameter(0,5.67032e+04)\n",
    "sigmaTvsTH.SetParameter(2,6.21645e+01)\n",
    "sigmaTvsTH.SetParLimits(1,0.,5)\n",
    "sigmaTvsTH.SetParLimits(3,0,5)\n",
    "sigmaTvsTH.SetParameter(1,3.1)\n",
    "sigmaTvsTH.SetParameter(3,0.3)"
   ]
  },
  {
   "cell_type": "code",
   "execution_count": 6,
   "id": "62211d81-f364-4d00-97df-0ba7b55e1b68",
   "metadata": {},
   "outputs": [
    {
     "name": "stdout",
     "output_type": "stream",
     "text": [
      "416 130.77797346170925 2620.858943799735\n",
      "586 132.34572119194485 2532.1213829811204\n",
      "708 138.02099843621147 2473.123223083949\n",
      "531 125.61110587867933 2862.7417013010313\n",
      "606 130.2758141396899 2667.23556295393\n",
      "481 124.0820169000153 2736.916621199681\n",
      "809 128.6561909778912 2586.2210430065907\n",
      "805 131.24874140253408 2757.3256601905086\n",
      "799 134.05100514352972 2488.6689030857056\n",
      "801 121.66715924027287 2695.0267306062005\n",
      "803 127.16445128059303 2697.9662164230003\n",
      "796 119.29640277520008 2867.018319879154\n",
      " FCN=0.54711 FROM HESSE     STATUS=OK             23 CALLS        1186 TOTAL\n",
      "                     EDM=2.03078e-06    STRATEGY= 1      ERROR MATRIX ACCURATE \n",
      "  EXT PARAMETER                                   STEP         FIRST   \n",
      "  NO.   NAME      VALUE            ERROR          SIZE      DERIVATIVE \n",
      "   1  p0           4.72784e+03   2.39960e+04   2.88517e-02  -1.86491e-06\n",
      "   2  p1           1.73191e+00   3.35845e+00   1.09077e-06   5.98976e-02\n",
      "   3  p2           2.51180e+01   1.16955e+02   5.52806e-05  -1.82168e-03\n",
      "   4  p3           6.11130e-01   2.75214e+00   5.30197e-07  -1.89146e-01\n",
      " FCN=0.19269 FROM MIGRAD    STATUS=CONVERGED     505 CALLS         506 TOTAL\n",
      "                     EDM=5.23558e-07    STRATEGY= 1      ERROR MATRIX ACCURATE \n",
      "  EXT PARAMETER                                   STEP         FIRST   \n",
      "  NO.   NAME      VALUE            ERROR          SIZE      DERIVATIVE \n",
      "   1  p0          -4.55327e+03   1.48488e+04   1.32138e-01   2.10474e-06\n",
      "   2  p1           1.75480e+00   1.62158e+00   5.21886e-06   5.46298e-02\n",
      "   3  p2           2.60876e+01   6.95801e+01   2.13957e-04  -1.41534e-03\n",
      "   4  p3           6.13679e-01   9.02828e-01   1.97078e-06  -1.53951e-01\n",
      " FCN=0.163123 FROM MIGRAD    STATUS=CONVERGED     532 CALLS         533 TOTAL\n",
      "                     EDM=5.26576e-07    STRATEGY= 1      ERROR MATRIX ACCURATE \n",
      "  EXT PARAMETER                                   STEP         FIRST   \n",
      "  NO.   NAME      VALUE            ERROR          SIZE      DERIVATIVE \n",
      "   1  p0           9.98515e+03   4.00698e+04   3.05329e-01  -1.09470e-06\n",
      "   2  p1           2.18832e+00   1.89958e+00   5.66128e-06   5.47221e-02\n",
      "   3  p2           4.65210e+01   7.76827e+01   2.97794e-04  -4.45308e-04\n",
      "   4  p3           4.22830e-01   5.89581e-01   1.84324e-06  -6.94553e-02\n",
      " FCN=0.221549 FROM HESSE     STATUS=OK             23 CALLS         922 TOTAL\n",
      "                     EDM=8.00344e-07    STRATEGY= 1      ERROR MATRIX ACCURATE \n",
      "  EXT PARAMETER                                   STEP         FIRST   \n",
      "  NO.   NAME      VALUE            ERROR          SIZE      DERIVATIVE \n",
      "   1  p0           7.23844e+03   1.64551e+04   2.78387e-02   4.60289e-08\n",
      "   2  p1           1.90223e+00   1.15055e+00   6.77450e-07   9.27038e-03\n",
      "   3  p2           1.62790e+01   3.85994e+01   2.28971e-05  -2.54931e-03\n",
      "   4  p3           7.64469e-01   8.20363e-01   3.05969e-07  -1.99037e-01\n",
      " FCN=0.139791 FROM MIGRAD    STATUS=CONVERGED     697 CALLS         698 TOTAL\n",
      "                     EDM=1.01029e-06    STRATEGY= 1      ERROR MATRIX ACCURATE \n",
      "  EXT PARAMETER                                   STEP         FIRST   \n",
      "  NO.   NAME      VALUE            ERROR          SIZE      DERIVATIVE \n",
      "   1  p0          -3.10670e+03   1.05612e+04   8.85071e-02   2.66941e-06\n",
      "   2  p1           1.60949e+00   1.70591e+00   5.19540e-06   4.96339e-02\n",
      "   3  p2           3.41398e+01   8.82202e+01   2.34862e-04  -1.56192e-03\n",
      "   4  p3           5.02910e-01   8.54940e-01   1.78582e-06  -2.09446e-01\n",
      " FCN=0.494696 FROM MIGRAD    STATUS=CALL LIMIT   1490 CALLS        1491 TOTAL\n",
      "                     EDM=0.00326275    STRATEGY= 1      ERR MATRIX NOT POS-DEF\n",
      "  EXT PARAMETER                APPROXIMATE        STEP         FIRST   \n",
      "  NO.   NAME      VALUE            ERROR          SIZE      DERIVATIVE \n",
      "   1  p0          -1.36448e+03   6.69365e+02   1.66346e+01   1.83854e-03\n",
      "   2  p1           1.15031e+00   2.24084e-01  -2.85873e-03   1.31037e+01\n",
      "   3  p2           7.56216e+00   5.50271e+00  -2.03515e-01  -5.31126e-01\n",
      "   4  p3           1.02736e+00   2.60024e-01   4.83468e-03  -2.08720e+01\n",
      " FCN=0.25774 FROM MIGRAD    STATUS=CONVERGED    1419 CALLS        1420 TOTAL\n",
      "                     EDM=5.91263e-07    STRATEGY= 1      ERROR MATRIX ACCURATE \n",
      "  EXT PARAMETER                                   STEP         FIRST   \n",
      "  NO.   NAME      VALUE            ERROR          SIZE      DERIVATIVE \n",
      "   1  p0           3.52959e+04   1.72268e+05   1.91105e+00  -2.03971e-07\n",
      "   2  p1           2.91435e+00   3.66444e+00   1.31031e-05   3.95068e-02\n",
      "   3  p2          -6.84619e+01   5.58298e+01   4.16392e-04   1.23743e-03\n",
      "   4  p3           2.51290e-01   2.98319e-01   2.19905e-06  -2.28278e-01\n",
      " FCN=0.216792 FROM MIGRAD    STATUS=CALL LIMIT   1482 CALLS        1483 TOTAL\n",
      "                     EDM=9.41907e-05    STRATEGY= 1  ERROR MATRIX UNCERTAINTY  42.9 per cent\n",
      "  EXT PARAMETER                APPROXIMATE        STEP         FIRST   \n",
      "  NO.   NAME      VALUE            ERROR          SIZE      DERIVATIVE \n",
      "   1  p0           2.65333e+03   2.29144e+03   3.75098e+00   2.09077e-05\n",
      "   2  p1           1.41516e+00   4.38652e-01   2.74967e-04  -2.24398e-01\n",
      "   3  p2           9.06380e+00   1.45595e+01  -9.96084e-03  -1.89412e-03\n",
      "   4  p3           9.88693e-01   5.75181e-01   2.51921e-04  -1.38505e-01\n",
      " FCN=0.185762 FROM MIGRAD    STATUS=CALL LIMIT   1487 CALLS        1488 TOTAL\n",
      "                     EDM=0.00242748    STRATEGY= 1      ERR MATRIX NOT POS-DEF\n",
      "  EXT PARAMETER                APPROXIMATE        STEP         FIRST   \n",
      "  NO.   NAME      VALUE            ERROR          SIZE      DERIVATIVE \n",
      "   1  p0           3.25227e+04   1.07988e+05   1.60159e+03   1.47364e-06\n",
      "   2  p1           2.90684e+00   1.65023e+00   1.00509e-02  -2.83306e-01\n",
      "   3  p2           7.95131e+01   4.72878e+01   9.76049e-01  -2.99533e-02\n",
      "   4  p3           2.08466e-01   2.22553e-01  -4.72504e-03  -6.28119e+00\n",
      " FCN=1.26207 FROM MIGRAD    STATUS=CONVERGED     803 CALLS         804 TOTAL\n",
      "                     EDM=3.10444e-07    STRATEGY= 1      ERROR MATRIX ACCURATE \n",
      "  EXT PARAMETER                                   STEP         FIRST   \n",
      "  NO.   NAME      VALUE            ERROR          SIZE      DERIVATIVE \n",
      "   1  p0           1.03377e+04   5.00354e+04   3.94109e-01  -6.44416e-08\n",
      "   2  p1           2.16291e+00   3.48162e+00   6.63704e-06   7.16161e-03\n",
      "   3  p2           3.05619e+01   8.42173e+01   2.57797e-04  -7.60354e-04\n",
      "   4  p3           5.27651e-01   9.25375e-01   2.16984e-06  -9.37537e-02\n",
      " FCN=0.302183 FROM MIGRAD    STATUS=CONVERGED     638 CALLS         639 TOTAL\n",
      "                     EDM=3.92353e-06    STRATEGY= 1      ERROR MATRIX ACCURATE \n",
      "  EXT PARAMETER                                   STEP         FIRST   \n",
      "  NO.   NAME      VALUE            ERROR          SIZE      DERIVATIVE \n",
      "   1  p0           6.67095e+03   4.37999e+04   2.05915e-01  -3.83633e-06\n",
      "   2  p1           1.94669e+00   3.46682e+00   5.49064e-06   1.44281e-01\n",
      "   3  p2           2.63328e+01   1.18760e+02   2.05829e-04  -2.99199e-03\n",
      "   4  p3           6.01029e-01   1.36600e+00   1.88780e-06  -3.17315e-01\n",
      " FCN=0.602765 FROM MIGRAD    STATUS=CONVERGED     569 CALLS         570 TOTAL\n",
      "                     EDM=2.03488e-06    STRATEGY= 1      ERROR MATRIX ACCURATE \n",
      "  EXT PARAMETER                                   STEP         FIRST   \n",
      "  NO.   NAME      VALUE            ERROR          SIZE      DERIVATIVE \n",
      "   1  p0          -3.60917e+03   1.14011e+04   1.23282e-01   3.01846e-06\n",
      "   2  p1           1.72167e+00   1.59048e+00   6.09960e-06   5.48132e-02\n",
      "   3  p2           2.53657e+01   5.81309e+01   1.96979e-04   7.72969e-05\n",
      "   4  p3           5.98277e-01   7.88047e-01   1.88770e-06   2.44299e-02\n"
     ]
    },
    {
     "name": "stderr",
     "output_type": "stream",
     "text": [
      "Warning in <Fit>: Abnormal termination of minimization.\n",
      "Warning in <Fit>: Abnormal termination of minimization.\n",
      "Warning in <Fit>: Abnormal termination of minimization.\n"
     ]
    }
   ],
   "source": [
    "for tag in ['MS3_DRY','OPT_DRY']:\n",
    "    for t in ['LY','sigmaT','XT','SR']:\n",
    "        g['%s_%s'%(t,tag)]=R.TGraphErrors(len(map_prod))\n",
    "\n",
    "for tag in ['MS3_DRY','OPT_DRY']:\n",
    "    for ia,ar in enumerate(arrays[tag]):\n",
    "        files[ar]=R.TFile(arrays[tag][ar]['file'])\n",
    "        g['SR_%d'%ar]=files[ar].Get('DT_vs_bar')\n",
    "        g['sigmaT_%d'%ar]=files[ar].Get('sigmaT_vs_bar')\n",
    "        g['LY_%d'%ar]=files[ar].Get('LY_vs_bar')\n",
    "        g['XT_%d'%ar]=files[ar].Get('XT_vs_bar')\n",
    "        iv=map_prod[arrays[tag][ar]['prod']]\n",
    "        pos=iv\n",
    "        if ('OPT' in tag):\n",
    "            pos+=0.1\n",
    "        sigmaTvsTH.SetParameter(0,5.67032e+04)\n",
    "        sigmaTvsTH.SetParameter(2,6.21645e+01)\n",
    "        g['sigmaT_%d'%ar].Fit(sigmaTvsTH,\"BR\")\n",
    "        sr=1./g['SR_%d'%ar].GetFunction('pol2').Derivative(120)*1000\n",
    "        ly=R.TMath.Mean(g['LY_%d'%ar].GetN(),g['LY_%d'%ar].GetY())*2600/75.\n",
    "        xt=R.TMath.Mean(g['XT_%d'%ar].GetN(),g['XT_%d'%ar].GetY())\n",
    "        #sigmaT=sigmaTvsTH.GetMinimum()\n",
    "        sigmaT=R.TMath.MinElement(g['sigmaT_%d'%ar].GetN(),g['sigmaT_%d'%ar].GetY())\n",
    "        print(ar,sigmaT,ly)\n",
    "        g['SR_%s'%tag].SetPoint(iv,pos,sr)\n",
    "        g['SR_%s'%tag].SetPointError(iv,0,sr*0.02)\n",
    "        g['LY_%s'%tag].SetPoint(iv,pos,ly)\n",
    "        g['LY_%s'%tag].SetPointError(iv,0,ly*0.03)\n",
    "        g['sigmaT_%s'%tag].SetPoint(iv,pos,sigmaT)\n",
    "        g['sigmaT_%s'%tag].SetPointError(iv,0,4.)\n",
    "        g['XT_%s'%tag].SetPoint(iv,pos,xt)\n",
    "        g['XT_%s'%tag].SetPointError(iv,0,0.01)"
   ]
  },
  {
   "cell_type": "code",
   "execution_count": 7,
   "id": "b4a1ac93-f0ff-4022-8515-f5637c0b88ad",
   "metadata": {},
   "outputs": [],
   "source": [
    "c1=R.TCanvas('c1','c1',800,600)\n",
    "l=R.TLegend(0.8,0.8,0.9,0.88)\n",
    "l.SetFillColorAlpha(0,0)\n",
    "l.SetBorderSize(0)\n",
    "l.SetTextSize(0.04)\n",
    "\n",
    "tL=R.TLatex()#pm                                                                                                                               \n",
    "tL.SetTextSize(0.04)\n",
    "R.gStyle.SetOptTitle(0)"
   ]
  },
  {
   "cell_type": "code",
   "execution_count": 8,
   "id": "f3068f38-b5e3-439b-b65a-e66ec309ca8d",
   "metadata": {},
   "outputs": [],
   "source": [
    "for k in ['MS3_DRY','OPT_DRY']:\n",
    "    for h in ['LY','SR','sigmaT','XT']:\n",
    "        g['%s_%s'%(h,k)].GetHistogram().SetBins(6,-0.5,6-0.5)\n",
    "        for kk,vendor in enumerate([1,3,4,5,9,10]):\n",
    "            g['%s_%s'%(h,k)].GetHistogram().GetXaxis().SetBinLabel(kk+1,'prod%d'%vendor)"
   ]
  },
  {
   "cell_type": "code",
   "execution_count": 9,
   "id": "0a5bfd58-5f11-42ba-8aff-c460e9dfd7a3",
   "metadata": {},
   "outputs": [
    {
     "name": "stdout",
     "output_type": "stream",
     "text": [
      "x[0]=0, y[0]=2620.86, ex[0]=0, ey[0]=78.6258\n",
      "x[1]=1, y[1]=2532.12, ex[1]=0, ey[1]=75.9636\n",
      "x[2]=2, y[2]=2473.12, ex[2]=0, ey[2]=74.1937\n",
      "x[3]=3, y[3]=2862.74, ex[3]=0, ey[3]=85.8823\n",
      "x[4]=4, y[4]=2667.24, ex[4]=0, ey[4]=80.0171\n",
      "x[5]=5, y[5]=2736.92, ex[5]=0, ey[5]=82.1075\n"
     ]
    },
    {
     "name": "stderr",
     "output_type": "stream",
     "text": [
      "Info in <TCanvas::Print>: png file plots/LYSO_OPT_LY_ARRAY_DRY_byProd.png has been created\n",
      "Info in <TCanvas::Print>: pdf file plots/LYSO_OPT_LY_ARRAY_DRY_byProd.pdf has been created\n"
     ]
    },
    {
     "data": {
      "image/png": "[encoded data removed]",
      "text/plain": [
       "<IPython.core.display.Image object>"
      ]
     },
     "metadata": {},
     "output_type": "display_data"
    }
   ],
   "source": [
    "l.Clear()\n",
    "g['LY_MS3_DRY'].Print()\n",
    "g['LY_MS3_DRY'].Draw(\"AP*\")\n",
    "l.AddEntry(g['LY_MS3_DRY'],\"MS3\",\"PL\")\n",
    "g['LY_MS3_DRY'].GetHistogram().GetYaxis().SetLimits(2000,4000)\n",
    "g['LY_MS3_DRY'].GetHistogram().GetYaxis().SetRangeUser(2000,4000)\n",
    "g['LY_MS3_DRY'].GetHistogram().GetYaxis().SetTitle(\"LO (ph/MeV)\")\n",
    "g['LY_OPT_DRY'].SetMarkerStyle(24)\n",
    "g['LY_OPT_DRY'].SetMarkerSize(1.2)\n",
    "l.AddEntry(g['LY_OPT_DRY'],\"OPT\",\"PL\")\n",
    "g['LY_OPT_DRY'].Draw(\"PSAME\")\n",
    "l.Draw()\n",
    "tL.DrawLatexNDC(0.11,0.92,'CMS MTD - POST MS3 Optimisation - Array dry coupling')\n",
    "tL.DrawLatexNDC(0.15,0.83,'<MS3> = %.0f ph/MeV'%R.TMath.Mean(6,g['LY_MS3_DRY'].GetY()))\n",
    "tL.DrawLatexNDC(0.15,0.79,'<OPT> = %.0f ph/MeV'%R.TMath.Mean(6,g['LY_OPT_DRY'].GetY()))\n",
    "c1.Draw()\n",
    "for ext in ['png','pdf']:\n",
    "    c1.SaveAs('plots/LYSO_OPT_LY_ARRAY_DRY_byProd.%s'%ext)"
   ]
  },
  {
   "cell_type": "code",
   "execution_count": 10,
   "id": "22570826-83dc-493b-a245-f5687b607a69",
   "metadata": {},
   "outputs": [
    {
     "name": "stdout",
     "output_type": "stream",
     "text": [
      "x[0]=0, y[0]=130.778, ex[0]=0, ey[0]=4\n",
      "x[1]=1, y[1]=132.346, ex[1]=0, ey[1]=4\n",
      "x[2]=2, y[2]=138.021, ex[2]=0, ey[2]=4\n",
      "x[3]=3, y[3]=125.611, ex[3]=0, ey[3]=4\n",
      "x[4]=4, y[4]=130.276, ex[4]=0, ey[4]=4\n",
      "x[5]=5, y[5]=124.082, ex[5]=0, ey[5]=4\n"
     ]
    },
    {
     "name": "stderr",
     "output_type": "stream",
     "text": [
      "Info in <TCanvas::Print>: png file plots/LYSO_OPT_sigmaT_ARRAY_DRY_byProd.png has been created\n",
      "Info in <TCanvas::Print>: pdf file plots/LYSO_OPT_sigmaT_ARRAY_DRY_byProd.pdf has been created\n"
     ]
    },
    {
     "data": {
      "image/png": "[encoded data removed]",
      "text/plain": [
       "<IPython.core.display.Image object>"
      ]
     },
     "metadata": {},
     "output_type": "display_data"
    }
   ],
   "source": [
    "g['sigmaT_MS3_DRY'].Print()\n",
    "g['sigmaT_MS3_DRY'].Draw(\"AP*\")\n",
    "g['sigmaT_MS3_DRY'].GetHistogram().GetYaxis().SetLimits(100,150)\n",
    "g['sigmaT_MS3_DRY'].GetHistogram().GetYaxis().SetRangeUser(100,150)\n",
    "g['sigmaT_MS3_DRY'].GetHistogram().GetYaxis().SetTitle(\"#sigma_{t} (ps)\")\n",
    "g['sigmaT_OPT_DRY'].SetMarkerStyle(24)\n",
    "g['sigmaT_OPT_DRY'].SetMarkerSize(1.2)\n",
    "g['sigmaT_OPT_DRY'].Draw(\"PSAME\")\n",
    "l.Draw()\n",
    "tL.DrawLatexNDC(0.11,0.92,'CMS MTD - POST MS3 Optimisation - Array Dry coupling')\n",
    "tL.DrawLatexNDC(0.15,0.83,'<MS3> = %.0f ps'%R.TMath.Mean(6,g['sigmaT_MS3_DRY'].GetY()))\n",
    "tL.DrawLatexNDC(0.15,0.79,'<OPT> = %.0f ps'%R.TMath.Mean(6,g['sigmaT_OPT_DRY'].GetY()))\n",
    "c1.Draw()\n",
    "for ext in ['png','pdf']:\n",
    "    c1.SaveAs('plots/LYSO_OPT_sigmaT_ARRAY_DRY_byProd.%s'%ext)"
   ]
  },
  {
   "cell_type": "code",
   "execution_count": 11,
   "id": "d31de83c-8d8d-4cd0-8303-fb9afdd98cf6",
   "metadata": {},
   "outputs": [
    {
     "name": "stdout",
     "output_type": "stream",
     "text": [
      "x[0]=0, y[0]=0.0138488, ex[0]=0, ey[0]=0.01\n",
      "x[1]=1, y[1]=0.0455465, ex[1]=0, ey[1]=0.01\n",
      "x[2]=2, y[2]=0.0709276, ex[2]=0, ey[2]=0.01\n",
      "x[3]=3, y[3]=0.0865404, ex[3]=0, ey[3]=0.01\n",
      "x[4]=4, y[4]=0.0218292, ex[4]=0, ey[4]=0.01\n",
      "x[5]=5, y[5]=0.0186736, ex[5]=0, ey[5]=0.01\n"
     ]
    },
    {
     "name": "stderr",
     "output_type": "stream",
     "text": [
      "Info in <TCanvas::Print>: png file plots/LYSO_OPT_XT_ARRAY_DRY_byProd.png has been created\n",
      "Info in <TCanvas::Print>: pdf file plots/LYSO_OPT_XT_ARRAY_DRY_byProd.pdf has been created\n"
     ]
    },
    {
     "data": {
      "image/png": "[encoded data removed]",
      "text/plain": [
       "<IPython.core.display.Image object>"
      ]
     },
     "metadata": {},
     "output_type": "display_data"
    }
   ],
   "source": [
    "g['XT_MS3_DRY'].Print()\n",
    "g['XT_MS3_DRY'].Draw(\"AP*\")\n",
    "g['XT_MS3_DRY'].GetHistogram().GetYaxis().SetLimits(0.000001,0.5)\n",
    "g['XT_MS3_DRY'].GetHistogram().GetYaxis().SetRangeUser(0.000001,0.5)\n",
    "g['XT_MS3_DRY'].GetHistogram().GetYaxis().SetTitle(\"XT\")\n",
    "g['XT_OPT_DRY'].SetMarkerStyle(24)\n",
    "g['XT_OPT_DRY'].SetMarkerSize(1.2)\n",
    "g['XT_OPT_DRY'].Draw(\"PSAME\")\n",
    "l.Draw()\n",
    "tL.DrawLatexNDC(0.11,0.92,'CMS MTD - POST MS3 Optimisation - Array Dry coupling')\n",
    "\n",
    "c1.Draw()\n",
    "for ext in ['png','pdf']:\n",
    "    c1.SaveAs('plots/LYSO_OPT_XT_ARRAY_DRY_byProd.%s'%ext)"
   ]
  },
  {
   "cell_type": "code",
   "execution_count": 12,
   "id": "a8100d21-d680-4df6-b6f8-038778a36647",
   "metadata": {},
   "outputs": [
    {
     "name": "stdout",
     "output_type": "stream",
     "text": [
      "x[0]=0, y[0]=226.783, ex[0]=0, ey[0]=4.53565\n",
      "x[1]=1, y[1]=229.347, ex[1]=0, ey[1]=4.58695\n",
      "x[2]=2, y[2]=220.187, ex[2]=0, ey[2]=4.40373\n",
      "x[3]=3, y[3]=227.68, ex[3]=0, ey[3]=4.55361\n",
      "x[4]=4, y[4]=230.285, ex[4]=0, ey[4]=4.60571\n",
      "x[5]=5, y[5]=235.583, ex[5]=0, ey[5]=4.71167\n"
     ]
    },
    {
     "name": "stderr",
     "output_type": "stream",
     "text": [
      "Info in <TCanvas::Print>: png file plots/LYSO_OPT_SR_ARRAY_DRY_byProd.png has been created\n",
      "Info in <TCanvas::Print>: pdf file plots/LYSO_OPT_SR_ARRAY_DRY_byProd.pdf has been created\n"
     ]
    },
    {
     "data": {
      "image/png": "[encoded data removed]",
      "text/plain": [
       "<IPython.core.display.Image object>"
      ]
     },
     "metadata": {},
     "output_type": "display_data"
    }
   ],
   "source": [
    "g['SR_MS3_DRY'].Print()\n",
    "g['SR_MS3_DRY'].Draw(\"AP*\")\n",
    "g['SR_MS3_DRY'].GetHistogram().GetYaxis().SetLimits(200,280)\n",
    "g['SR_MS3_DRY'].GetHistogram().GetYaxis().SetRangeUser(200,280)\n",
    "g['SR_MS3_DRY'].GetHistogram().GetYaxis().SetTitle(\"SR (mV/ns)\")\n",
    "g['SR_OPT_DRY'].SetMarkerStyle(24)\n",
    "g['SR_OPT_DRY'].SetMarkerSize(1.2)\n",
    "g['SR_OPT_DRY'].Draw(\"PSAME\")\n",
    "l.Draw()\n",
    "tL.DrawLatexNDC(0.11,0.92,'CMS MTD - POST MS3 Optimisation - Array Dry coupling')\n",
    "\n",
    "c1.Draw()\n",
    "for ext in ['png','pdf']:\n",
    "    c1.SaveAs('plots/LYSO_OPT_SR_ARRAY_DRY_byProd.%s'%ext)"
   ]
  },
  {
   "cell_type": "code",
   "execution_count": 13,
   "id": "412cc606-aa23-4fec-9311-40ae1e2f0c21",
   "metadata": {},
   "outputs": [],
   "source": [
    "fOut=R.TFile('LYSO_ARRAY_DRY_Optimisation.root','RECREATE')\n",
    "for hn,h in g.items():\n",
    "    h.Write(hn)\n",
    "fOut.Close()"
   ]
  }
 ],
 "metadata": {
  "kernelspec": {
   "display_name": "Python 3",
   "language": "python",
   "name": "python3"
  },
  "language_info": {
   "codemirror_mode": {
    "name": "ipython",
    "version": 3
   },
   "file_extension": ".py",
   "mimetype": "text/x-python",
   "name": "python",
   "nbconvert_exporter": "python",
   "pygments_lexer": "ipython3",
   "version": "3.9.4"
  }
 },
 "nbformat": 4,
 "nbformat_minor": 5
}
