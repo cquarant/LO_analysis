{
 "cells": [
  {
   "cell_type": "code",
   "execution_count": 1,
   "id": "e6c1c1be",
   "metadata": {},
   "outputs": [
    {
     "name": "stdout",
     "output_type": "stream",
     "text": [
      "Welcome to JupyROOT 6.24/02\n"
     ]
    }
   ],
   "source": [
    "import ROOT as R"
   ]
  },
  {
   "cell_type": "code",
   "execution_count": 2,
   "id": "dbfcc55e",
   "metadata": {},
   "outputs": [],
   "source": [
    "files={}\n",
    "files['OPT2_DRY']=R.TFile(\"data/OPT2/prodAnalysis_c40_OptStep2_Sep2022.root\")"
   ]
  },
  {
   "cell_type": "code",
   "execution_count": 3,
   "id": "d4b9da33",
   "metadata": {},
   "outputs": [],
   "source": [
    "map_prod ={1:0, 5:1, 10:2}\n",
    "g={}\n",
    "for tag in ['OPT2_DRY']:\n",
    "    for t in ['LY_arrayRms','sigmaT_arrayRms','XT_arrayRms','LY_globRms','sigmaT_globRms','XT_globRms']:\n",
    "        g['%s_%s'%(t,tag)]=R.TGraphErrors(len(map_prod))"
   ]
  },
  {
   "cell_type": "code",
   "execution_count": 4,
   "id": "1b7e978f",
   "metadata": {},
   "outputs": [
    {
     "name": "stdout",
     "output_type": "stream",
     "text": [
      "x[0]=0, y[0]=4.62657, ex[0]=0, ey[0]=0.407952\n",
      "x[1]=1, y[1]=3.78524, ex[1]=0, ey[1]=0.38438\n",
      "x[2]=2, y[2]=5.89579, ex[2]=0, ey[2]=0.613654\n",
      "x[0]=0.1, y[0]=5.32628, ex[0]=0, ey[0]=0.410931\n",
      "x[1]=1.1, y[1]=3.83768, ex[1]=0, ey[1]=0.296084\n",
      "x[2]=2.1, y[2]=5.3326, ex[2]=0, ey[2]=0.421579\n"
     ]
    }
   ],
   "source": [
    "for tag in ['OPT2_DRY']:\n",
    "    opt2_ly_histos = files['OPT2_DRY']\n",
    "\n",
    "    ly_arrayRms_gr = opt2_ly_histos.Get('ly_arrayRms_byProd_geo2_PREIRR')\n",
    "    xt_arrayRms_gr = opt2_ly_histos.Get('xt_arrayRms_byProd_geo2_PREIRR')\n",
    "    sigmaT_arrayRms_gr = opt2_ly_histos.Get('sigmaT_arrayRms_byProd_geo2_PREIRR')\n",
    "\n",
    "    ly_globRms_gr = opt2_ly_histos.Get('ly_rms_byProd_geo2_PREIRR')\n",
    "    xt_globRms_gr = opt2_ly_histos.Get('xt_rms_byProd_geo2_PREIRR')\n",
    "    sigmaT_globRms_gr = opt2_ly_histos.Get('sigmaT_rms_byProd_geo2_PREIRR')\n",
    "\n",
    "    gr_map_prod ={1:0, 5:4, 10:8}\n",
    "    for prod in [1,5,10]:\n",
    "        iv=map_prod[prod]\n",
    "        pos=iv\n",
    "        \n",
    "        ly_arrayRms = ly_arrayRms_gr.GetPointY(gr_map_prod[prod])\n",
    "        xt_arrayRms = xt_arrayRms_gr.GetPointY(gr_map_prod[prod]) \n",
    "        sigmaT_arrayRms = sigmaT_arrayRms_gr.GetPointY(gr_map_prod[prod]) \n",
    "        \n",
    "        ly_arrayRms_err = ly_arrayRms_gr.GetErrorY(gr_map_prod[prod])\n",
    "        xt_arrayRms_err = xt_arrayRms_gr.GetErrorY(gr_map_prod[prod]) \n",
    "        sigmaT_arrayRms_err = sigmaT_arrayRms_gr.GetErrorY(gr_map_prod[prod]) \n",
    "\n",
    "        ly_globRms = ly_globRms_gr.GetPointY(gr_map_prod[prod])\n",
    "        xt_globRms = xt_globRms_gr.GetPointY(gr_map_prod[prod]) \n",
    "        sigmaT_globRms = sigmaT_globRms_gr.GetPointY(gr_map_prod[prod]) \n",
    "        \n",
    "        ly_globRms_err = ly_globRms_gr.GetErrorY(gr_map_prod[prod])\n",
    "        xt_globRms_err = xt_globRms_gr.GetErrorY(gr_map_prod[prod]) \n",
    "        sigmaT_globRms_err = sigmaT_globRms_gr.GetErrorY(gr_map_prod[prod]) \n",
    "        \n",
    "        g['LY_arrayRms_%s'%tag].SetPoint(iv,pos,ly_arrayRms)\n",
    "        g['LY_arrayRms_%s'%tag].SetPointError(iv,0,ly_arrayRms_err)\n",
    "        g['sigmaT_arrayRms_%s'%tag].SetPoint(iv,pos,sigmaT_arrayRms)\n",
    "        g['sigmaT_arrayRms_%s'%tag].SetPointError(iv,0,sigmaT_arrayRms_err)\n",
    "        g['XT_arrayRms_%s'%tag].SetPoint(iv,pos,xt_arrayRms)\n",
    "        g['XT_arrayRms_%s'%tag].SetPointError(iv,0,xt_arrayRms_err)\n",
    "        \n",
    "        g['LY_globRms_%s'%tag].SetPoint(iv,pos+0.1,ly_globRms)\n",
    "        g['LY_globRms_%s'%tag].SetPointError(iv,0,ly_globRms_err)\n",
    "        g['sigmaT_globRms_%s'%tag].SetPoint(iv,pos+0.1,sigmaT_globRms)\n",
    "        g['sigmaT_globRms_%s'%tag].SetPointError(iv,0,sigmaT_globRms_err)\n",
    "        g['XT_globRms_%s'%tag].SetPoint(iv,pos+0.1,xt_globRms)\n",
    "        g['XT_globRms_%s'%tag].SetPointError(iv,0,xt_globRms_err)\n",
    "g['LY_arrayRms_OPT2_DRY'].Print()\n",
    "g['LY_globRms_OPT2_DRY'].Print()"
   ]
  },
  {
   "cell_type": "code",
   "execution_count": 5,
   "id": "85013162",
   "metadata": {},
   "outputs": [],
   "source": [
    "c1=R.TCanvas('c1','c1',800,600)\n",
    "l=R.TLegend(0.15,0.65,0.9,0.88)\n",
    "l.SetFillColorAlpha(0,0)\n",
    "l.SetBorderSize(0)\n",
    "l.SetTextSize(0.04)\n",
    "\n",
    "tL=R.TLatex()#pm                                                                                                                               \n",
    "tL.SetTextSize(0.04)\n",
    "R.gStyle.SetOptTitle(0)"
   ]
  },
  {
   "cell_type": "code",
   "execution_count": 6,
   "id": "220b8015",
   "metadata": {},
   "outputs": [],
   "source": [
    "for k in ['OPT2_DRY']:\n",
    "    for h in ['LY_arrayRms','sigmaT_arrayRms','XT_arrayRms','LY_globRms','sigmaT_globRms','XT_globRms']:\n",
    "        g['%s_%s'%(h,k)].GetHistogram().SetBins(3,-0.5,3-0.5)\n",
    "        for kk,vendor in enumerate([1,5,10]):\n",
    "            g['%s_%s'%(h,k)].GetHistogram().GetXaxis().SetBinLabel(kk+1,'prod%d'%vendor)"
   ]
  },
  {
   "cell_type": "code",
   "execution_count": 7,
   "id": "252a939d",
   "metadata": {},
   "outputs": [
    {
     "name": "stdout",
     "output_type": "stream",
     "text": [
      "x[0]=0, y[0]=4.62657, ex[0]=0, ey[0]=0.407952\n",
      "x[1]=1, y[1]=3.78524, ex[1]=0, ey[1]=0.38438\n",
      "x[2]=2, y[2]=5.89579, ex[2]=0, ey[2]=0.613654\n"
     ]
    },
    {
     "name": "stderr",
     "output_type": "stream",
     "text": [
      "Info in <TCanvas::Print>: png file plots/LYSO_OPT2_LY_ARRAYRMS_DRY_byProd.png has been created\n",
      "Info in <TCanvas::Print>: pdf file plots/LYSO_OPT2_LY_ARRAYRMS_DRY_byProd.pdf has been created\n"
     ]
    },
    {
     "data": {
      "image/png": "[encoded data removed]",
      "text/plain": [
       "<IPython.core.display.Image object>"
      ]
     },
     "metadata": {},
     "output_type": "display_data"
    }
   ],
   "source": [
    "l.Clear()\n",
    "g['LY_arrayRms_OPT2_DRY'].Print()\n",
    "g['LY_arrayRms_OPT2_DRY'].Draw(\"AP*\")\n",
    "g['LY_arrayRms_OPT2_DRY'].GetHistogram().GetYaxis().SetLimits(0,17)\n",
    "g['LY_arrayRms_OPT2_DRY'].GetHistogram().GetYaxis().SetRangeUser(0,17)\n",
    "g['LY_arrayRms_OPT2_DRY'].GetHistogram().GetYaxis().SetTitle(\"LO Dev.St / Mean [%]\")\n",
    "g['LY_arrayRms_OPT2_DRY'].SetMarkerStyle(22)\n",
    "\n",
    "g['LY_globRms_OPT2_DRY'].SetMarkerStyle(26)\n",
    "g['LY_globRms_OPT2_DRY'].Draw(\"PSAME\")\n",
    "\n",
    "hl5 = R.TLine(-0.5,5,2.5,5)\n",
    "hl5.SetLineStyle(R.kDashed)\n",
    "hl5.SetLineColor(R.kRed)\n",
    "hl5.Draw(\"SAME\")\n",
    "\n",
    "hl10 = R.TLine(-0.5,10,2.5,10)\n",
    "hl10.SetLineStyle(R.kDotted)\n",
    "hl10.SetLineColor(R.kBlack)\n",
    "hl10.Draw(\"SAME\")\n",
    "\n",
    "l.AddEntry(g['LY_globRms_OPT2_DRY'],\"Dev.St/Mean\",\"PL\")\n",
    "l.AddEntry(hl10,\"Tolerance\",\"l\")\n",
    "l.AddEntry(g['LY_arrayRms_OPT2_DRY'],\"Dev.St/Mean in array (average over 6 arrays)\",\"PL\")\n",
    "l.AddEntry(hl5,\"Tolerance\",\"l\")\n",
    "\n",
    "l.Draw()\n",
    "tL.DrawLatexNDC(0.11,0.92,'CMS MTD - Optimization Step 2 - Array dry coupling')\n",
    "c1.Draw()\n",
    "for ext in ['png','pdf']:\n",
    "    c1.SaveAs('plots/LYSO_OPT2_LY_ARRAYRMS_DRY_byProd.%s'%ext)"
   ]
  },
  {
   "cell_type": "code",
   "execution_count": 8,
   "id": "3e9a77e8",
   "metadata": {
    "scrolled": false
   },
   "outputs": [
    {
     "name": "stdout",
     "output_type": "stream",
     "text": [
      "x[0]=0, y[0]=3.11974, ex[0]=0, ey[0]=0.463607\n",
      "x[1]=1, y[1]=3.95965, ex[1]=0, ey[1]=0.912748\n",
      "x[2]=2, y[2]=4.52227, ex[2]=0, ey[2]=0.715579\n"
     ]
    },
    {
     "name": "stderr",
     "output_type": "stream",
     "text": [
      "Info in <TCanvas::Print>: png file plots/LYSO_OPT2_sigmaT_ARRAYRMS_DRY_byProd.png has been created\n",
      "Info in <TCanvas::Print>: pdf file plots/LYSO_OPT2_sigmaT_ARRAYRMS_DRY_byProd.pdf has been created\n"
     ]
    },
    {
     "data": {
      "image/png": "[encoded data removed]",
      "text/plain": [
       "<IPython.core.display.Image object>"
      ]
     },
     "metadata": {},
     "output_type": "display_data"
    }
   ],
   "source": [
    "g['sigmaT_arrayRms_OPT2_DRY'].Print()\n",
    "g['sigmaT_arrayRms_OPT2_DRY'].Draw(\"AP*\")\n",
    "g['sigmaT_arrayRms_OPT2_DRY'].GetHistogram().GetYaxis().SetLimits(0,17)\n",
    "g['sigmaT_arrayRms_OPT2_DRY'].GetHistogram().GetYaxis().SetRangeUser(0,17)\n",
    "g['sigmaT_arrayRms_OPT2_DRY'].GetHistogram().GetYaxis().SetTitle(\"#sigma_{T} Dev.St / Mean [%]\")\n",
    "g['sigmaT_arrayRms_OPT2_DRY'].SetMarkerStyle(22)\n",
    "\n",
    "g['sigmaT_globRms_OPT2_DRY'].SetMarkerStyle(26)\n",
    "g['sigmaT_globRms_OPT2_DRY'].Draw(\"PSAME\")\n",
    "\n",
    "hl5.Draw(\"SAME\")\n",
    "hl10.Draw(\"SAME\")\n",
    "\n",
    "l.Draw()\n",
    "tL.DrawLatexNDC(0.11,0.92,'CMS MTD - Optimization Step 2 - Array dry coupling')\n",
    "c1.Draw()\n",
    "\n",
    "for ext in ['png','pdf']:\n",
    "    c1.SaveAs('plots/LYSO_OPT2_sigmaT_ARRAYRMS_DRY_byProd.%s'%ext)"
   ]
  },
  {
   "cell_type": "code",
   "execution_count": 9,
   "id": "f436388b",
   "metadata": {},
   "outputs": [
    {
     "name": "stdout",
     "output_type": "stream",
     "text": [
      "x[0]=0, y[0]=2.70593, ex[0]=0, ey[0]=0.132026\n",
      "x[1]=1, y[1]=2.49971, ex[1]=0, ey[1]=0.11263\n",
      "x[2]=2, y[2]=2.42384, ex[2]=0, ey[2]=0.159129\n"
     ]
    },
    {
     "name": "stderr",
     "output_type": "stream",
     "text": [
      "Info in <TCanvas::Print>: png file plots/LYSO_OPT2_XT_ARRAYRMS_DRY_byProd.png has been created\n",
      "Info in <TCanvas::Print>: pdf file plots/LYSO_OPT2_XT_ARRAYRMS_DRY_byProd.pdf has been created\n"
     ]
    },
    {
     "data": {
      "image/png": "[encoded data removed]",
      "text/plain": [
       "<IPython.core.display.Image object>"
      ]
     },
     "metadata": {},
     "output_type": "display_data"
    }
   ],
   "source": [
    "g['XT_arrayRms_OPT2_DRY'].Print()\n",
    "g['XT_arrayRms_OPT2_DRY'].Draw(\"AP*\")\n",
    "g['XT_arrayRms_OPT2_DRY'].GetHistogram().GetYaxis().SetLimits(0,17)\n",
    "g['XT_arrayRms_OPT2_DRY'].GetHistogram().GetYaxis().SetRangeUser(0,17)\n",
    "g['XT_arrayRms_OPT2_DRY'].GetHistogram().GetYaxis().SetTitle(\"XT Dev.St / Mean [%]\")\n",
    "g['XT_arrayRms_OPT2_DRY'].SetMarkerStyle(22)\n",
    "\n",
    "g['XT_globRms_OPT2_DRY'].SetMarkerStyle(26)\n",
    "g['XT_globRms_OPT2_DRY'].Draw(\"PSAME\")\n",
    "\n",
    "hl5.Draw(\"SAME\")\n",
    "hl10.Draw(\"SAME\")\n",
    "\n",
    "l.Draw()\n",
    "tL.DrawLatexNDC(0.11,0.92,'CMS MTD - Optimization Step 2 - Array dry coupling')\n",
    "c1.Draw()\n",
    "\n",
    "for ext in ['png','pdf']:\n",
    "    c1.SaveAs('plots/LYSO_OPT2_XT_ARRAYRMS_DRY_byProd.%s'%ext)"
   ]
  },
  {
   "cell_type": "code",
   "execution_count": null,
   "id": "353c035c",
   "metadata": {},
   "outputs": [],
   "source": []
  }
 ],
 "metadata": {
  "kernelspec": {
   "display_name": "Python 3 (ipykernel)",
   "language": "python",
   "name": "python3"
  },
  "language_info": {
   "codemirror_mode": {
    "name": "ipython",
    "version": 3
   },
   "file_extension": ".py",
   "mimetype": "text/x-python",
   "name": "python",
   "nbconvert_exporter": "python",
   "pygments_lexer": "ipython3",
   "version": "3.8.10"
  }
 },
 "nbformat": 4,
 "nbformat_minor": 5
}
