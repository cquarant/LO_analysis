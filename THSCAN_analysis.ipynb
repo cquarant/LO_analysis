{
 "cells": [
  {
   "cell_type": "code",
   "execution_count": 1,
   "id": "8a171321-cb1b-4dad-b619-965f7f877dd6",
   "metadata": {},
   "outputs": [
    {
     "name": "stdout",
     "output_type": "stream",
     "text": [
      "Welcome to JupyROOT 6.24/00\n"
     ]
    }
   ],
   "source": [
    "import ROOT as R"
   ]
  },
  {
   "cell_type": "code",
   "execution_count": 2,
   "id": "f6888bb6-a5a3-49b5-ba9a-157647433b5e",
   "metadata": {},
   "outputs": [],
   "source": [
    "files={}\n",
    "files['MS3']=R.TFile(\"data/MS3.root\")"
   ]
  },
  {
   "cell_type": "code",
   "execution_count": 3,
   "id": "d2190f00-9430-45a6-92b3-44cf5d73a60b",
   "metadata": {},
   "outputs": [],
   "source": [
    "g={}\n",
    "g['lyDT']=files['MS3'].Get(\"lyDTArray\")\n",
    "g['tau']=files['MS3'].Get(\"tau_pmt\")"
   ]
  },
  {
   "cell_type": "code",
   "execution_count": 4,
   "id": "52ea1c18-6827-45b9-a6e7-a63e1678aac2",
   "metadata": {},
   "outputs": [],
   "source": [
    "#missing Prod5\n",
    "arrays={\n",
    "    423:{'file':'data/tree_FirstRun003916_LastRun003943_ARRAY000423_THSCAN_SUMMARY.root','prod':1},\n",
    "    495:{'file':'data/tree_FirstRun003946_LastRun003973_ARRAY000495_THSCAN_SUMMARY.root','prod':2},\n",
    "    774:{'file':'data/tree_FirstRun003976_LastRun004003_ARRAY000774_THSCAN_SUMMARY.root','prod':3},\n",
    "    721:{'file':'data/tree_FirstRun004006_LastRun004033_ARRAY000721_THSCAN_SUMMARY.root','prod':4},\n",
    "    656:{'file':'data/tree_FirstRun004036_LastRun004063_ARRAY000656_THSCAN_SUMMARY.root','prod':6},\n",
    "    445:{'file':'data/tree_FirstRun004066_LastRun004093_ARRAY000445_THSCAN_SUMMARY.root','prod':8},\n",
    "    618:{'file':'data/tree_FirstRun004096_LastRun004123_ARRAY000618_THSCAN_SUMMARY.root','prod':9},\n",
    "    474:{'file':'data/tree_FirstRun004126_LastRun004153_ARRAY000474_THSCAN_SUMMARY.root','prod':10}\n",
    "}\n",
    "\n",
    "arrays_naked={\n",
    "    90412:{'file':'data/tree_FirstRun004413_LastRun004440_ARRAY090412_THSCAN_SUMMARY.root','prod':1},\n",
    "    90502:{'file':'data/tree_FirstRun004443_LastRun004470_ARRAY090502_THSCAN_SUMMARY.root','prod':2},\n",
    "    90592:{'file':'data/tree_FirstRun004473_LastRun004500_ARRAY090592_THSCAN_SUMMARY.root','prod':3},\n",
    "    90711:{'file':'data/tree_FirstRun004503_LastRun004530_ARRAY090712_THSCAN_SUMMARY.root','prod':4},\n",
    "    90533:{'file':'data/tree_FirstRun004533_LastRun004560_ARRAY090533_THSCAN_SUMMARY.root','prod':5},\n",
    "    90442:{'file':'data/tree_FirstRun004563_LastRun004590_ARRAY090442_THSCAN_SUMMARY.root','prod':8},\n",
    "    90622:{'file':'data/tree_FirstRun004593_LastRun004620_ARRAY090622_THSCAN_SUMMARY.root','prod':9},\n",
    "    90482:{'file':'data/tree_FirstRun004623_LastRun004650_ARRAY090482_THSCAN_SUMMARY.root','prod':10}\n",
    "}\n",
    "\n",
    "arrays_noglue={\n",
    "    796:{'file':'data/tree_FirstRun004875_LastRun004902_ARRAY000796_THSCAN_SUMMARY.root','prod':10},\n",
    "    797:{'file':'data/tree_FirstRun004905_LastRun004932_ARRAY000797_THSCAN_SUMMARY.root ','prod':10},\n",
    "}"
   ]
  },
  {
   "cell_type": "code",
   "execution_count": 5,
   "id": "62211d81-f364-4d00-97df-0ba7b55e1b68",
   "metadata": {},
   "outputs": [],
   "source": [
    "g['SR']=R.TGraphErrors()\n",
    "g['LYDT']=R.TGraphErrors()\n",
    "g['sigmaTvsSR']=R.TGraphErrors()\n",
    "g['SRvsLY']=R.TGraphErrors()\n",
    "g['SRvsLYDT']=R.TGraphErrors()\n",
    "for ia,ar in enumerate(arrays):\n",
    "    files[ar]=R.TFile(arrays[ar]['file'])\n",
    "    g['SR_%d'%ar]=files[ar].Get('DT_vs_bar')\n",
    "    g['sigmaT_%d'%ar]=files[ar].Get('sigmaT_vs_bar')\n",
    "    g['LY_%d'%ar]=files[ar].Get('LY_vs_bar')\n",
    "    #missing prod7 in MS3\n",
    "    if (arrays[ar]['prod']<6):\n",
    "        dt=g['tau'].GetY()[(arrays[ar]['prod']-1)]\n",
    "    else:\n",
    "        dt=g['tau'].GetY()[(arrays[ar]['prod']-2)]\n",
    "    sr=1./g['SR_%d'%ar].GetFunction('pol2').Derivative(120)*1000\n",
    "    g['SR'].SetPoint(ia,arrays[ar]['prod'],sr)\n",
    "    g['LYDT'].SetPoint(ia,arrays[ar]['prod'],R.TMath.Mean(10,g['LY_%d'%ar].GetY())*4700./75./dt)\n",
    "    g['sigmaTvsSR'].SetPoint(ia,sr/220.,g['sigmaT_%d'%ar].GetY()[4]/130.)\n",
    "    g['sigmaTvsSR'].SetPointError(ia,3/220.,g['sigmaT_%d'%ar].GetErrorY(4)/4/130.)\n",
    "    g['SRvsLY'].SetPoint(ia,R.TMath.Mean(10,g['LY_%d'%ar].GetY())/75.,sr/220.)\n",
    "    g['SRvsLY'].SetPointError(ia,R.TMath.RMS(10,g['LY_%d'%ar].GetY())/75.,1/220.)\n",
    "    g['SRvsLYDT'].SetPoint(ia,R.TMath.Mean(10,g['LY_%d'%ar].GetY())/dt/1.9,sr/220.)\n",
    "#    g['SRvsLYDT'].SetPointError(ia,R.TMath.RMS(10,g['LY_%d'%ar].GetY())/dt/1.9,1/200.)\n",
    "    g['SRvsLYDT'].SetPointError(ia,R.TMath.Mean(10,g['LY_%d'%ar].GetY())/dt/1.9*0.03,sr/220.*0.03)"
   ]
  },
  {
   "cell_type": "code",
   "execution_count": 6,
   "id": "a7284281-f68c-452d-b6e3-5b78649408d5",
   "metadata": {},
   "outputs": [],
   "source": [
    "g['SR_naked']=R.TGraphErrors()\n",
    "g['LYDT_naked']=R.TGraphErrors()\n",
    "g['sigmaTvsSR_naked']=R.TGraphErrors()\n",
    "g['SRvsLY_naked']=R.TGraphErrors()\n",
    "g['SRvsLYDT_naked']=R.TGraphErrors()\n",
    "for ia,ar in enumerate(arrays_naked):\n",
    "    files[ar]=R.TFile(arrays_naked[ar]['file'])\n",
    "    g['SR_naked_%d'%ar]=files[ar].Get('DT_vs_bar')\n",
    "    g['sigmaT_naked_%d'%ar]=files[ar].Get('sigmaT_vs_bar')\n",
    "    g['LY_naked_%d'%ar]=files[ar].Get('LY_vs_bar')\n",
    "    #missing prod7 in MS3\n",
    "    if (arrays_naked[ar]['prod']<6):\n",
    "        dt=g['tau'].GetY()[(arrays_naked[ar]['prod']-1)]\n",
    "    else:\n",
    "        dt=g['tau'].GetY()[(arrays_naked[ar]['prod']-2)]\n",
    "    sr=1./g['SR_naked_%d'%ar].GetFunction('pol2').Derivative(120)*1000\n",
    "    g['SR_naked'].SetPoint(ia,arrays_naked[ar]['prod'],sr)\n",
    "    g['LYDT_naked'].SetPoint(ia,arrays_naked[ar]['prod'],R.TMath.Mean(10,g['LY_naked_%d'%ar].GetY())*4700./75./dt)\n",
    "    g['sigmaTvsSR_naked'].SetPoint(ia,sr/220.,g['sigmaT_naked_%d'%ar].GetY()[4]/130.)\n",
    "    g['sigmaTvsSR_naked'].SetPointError(ia,3/220.,g['sigmaT_naked_%d'%ar].GetErrorY(4)/4/130.)\n",
    "    g['SRvsLY_naked'].SetPoint(ia,R.TMath.Mean(10,g['LY_naked_%d'%ar].GetY())/75.,sr/220.)\n",
    "    g['SRvsLY_naked'].SetPointError(ia,R.TMath.RMS(10,g['LY_naked_%d'%ar].GetY())/75.,1/220.)\n",
    "    g['SRvsLYDT_naked'].SetPoint(ia,R.TMath.Mean(10,g['LY_naked_%d'%ar].GetY())/dt/1.9,sr/220.)\n",
    "#    g['SRvsLYDT'].SetPointError(ia,R.TMath.RMS(10,g['LY_%d'%ar].GetY())/dt/1.9,1/200.)\n",
    "    g['SRvsLYDT_naked'].SetPointError(ia,R.TMath.Mean(10,g['LY_naked_%d'%ar].GetY())/dt/1.9*0.03,sr/220.*0.03)"
   ]
  },
  {
   "cell_type": "code",
   "execution_count": 7,
   "id": "215ee6b4-46a3-4111-876f-8e31472cff1a",
   "metadata": {},
   "outputs": [],
   "source": [
    "g['SR_noglue']=R.TGraphErrors()\n",
    "g['LYDT_noglue']=R.TGraphErrors()\n",
    "g['sigmaTvsSR_noglue']=R.TGraphErrors()\n",
    "g['SRvsLY_noglue']=R.TGraphErrors()\n",
    "g['SRvsLYDT_noglue']=R.TGraphErrors()\n",
    "for ia,ar in enumerate(arrays_noglue):\n",
    "    files[ar]=R.TFile(arrays_noglue[ar]['file'])\n",
    "    g['SR_noglue_%d'%ar]=files[ar].Get('DT_vs_bar')\n",
    "    g['sigmaT_noglue_%d'%ar]=files[ar].Get('sigmaT_vs_bar')\n",
    "    g['LY_noglue_%d'%ar]=files[ar].Get('LY_vs_bar')\n",
    "    #missing prod7 in MS3\n",
    "    if (arrays_noglue[ar]['prod']<6):\n",
    "        dt=g['tau'].GetY()[(arrays_noglue[ar]['prod']-1)]\n",
    "    else:\n",
    "        dt=g['tau'].GetY()[(arrays_noglue[ar]['prod']-2)]\n",
    "    sr=1./g['SR_noglue_%d'%ar].GetFunction('pol2').Derivative(120)*1000\n",
    "    g['SR_noglue'].SetPoint(ia,arrays_noglue[ar]['prod'],sr)\n",
    "    g['LYDT_noglue'].SetPoint(ia,arrays_noglue[ar]['prod'],R.TMath.Mean(10,g['LY_noglue_%d'%ar].GetY())*4700./75./dt)\n",
    "    g['sigmaTvsSR_noglue'].SetPoint(ia,sr/220.,g['sigmaT_noglue_%d'%ar].GetY()[4]/130.)\n",
    "    g['sigmaTvsSR_noglue'].SetPointError(ia,3/220.,g['sigmaT_noglue_%d'%ar].GetErrorY(4)/4/130.)\n",
    "    g['SRvsLY_noglue'].SetPoint(ia,R.TMath.Mean(10,g['LY_noglue_%d'%ar].GetY())/75.,sr/220.)\n",
    "    g['SRvsLY_noglue'].SetPointError(ia,R.TMath.RMS(10,g['LY_noglue_%d'%ar].GetY())/75.,1/220.)\n",
    "    g['SRvsLYDT_noglue'].SetPoint(ia,R.TMath.Mean(10,g['LY_noglue_%d'%ar].GetY())/dt/1.9,sr/220.)\n",
    "#    g['SRvsLYDT'].SetPointError(ia,R.TMath.RMS(10,g['LY_%d'%ar].GetY())/dt/1.9,1/200.)\n",
    "    g['SRvsLYDT_noglue'].SetPointError(ia,R.TMath.Mean(10,g['LY_noglue_%d'%ar].GetY())/dt/1.9*0.03,sr/220.*0.03)"
   ]
  },
  {
   "cell_type": "code",
   "execution_count": 8,
   "id": "b4a1ac93-f0ff-4022-8515-f5637c0b88ad",
   "metadata": {},
   "outputs": [],
   "source": [
    "c1=R.TCanvas('c1','c1',800,600)"
   ]
  },
  {
   "cell_type": "code",
   "execution_count": 9,
   "id": "f3068f38-b5e3-439b-b65a-e66ec309ca8d",
   "metadata": {},
   "outputs": [
    {
     "data": {
      "image/png": "[encoded data removed]",
      "text/plain": [
       "<IPython.core.display.Image object>"
      ]
     },
     "metadata": {},
     "output_type": "display_data"
    }
   ],
   "source": [
    "g['SR'].Draw('AP*')\n",
    "g['SR_naked'].SetMarkerStyle(24)\n",
    "g['SR_naked'].SetMarkerSize(1.2)\n",
    "g['SR_naked'].Draw('PSAME')\n",
    "g['SR_noglue'].SetMarkerStyle(25)\n",
    "g['SR_noglue'].SetMarkerSize(1.2)\n",
    "g['SR_noglue'].Draw('PSAME')\n",
    "c1.Draw()"
   ]
  },
  {
   "cell_type": "code",
   "execution_count": 15,
   "id": "0a5bfd58-5f11-42ba-8aff-c460e9dfd7a3",
   "metadata": {},
   "outputs": [
    {
     "data": {
      "image/png": "[encoded data removed]",
      "text/plain": [
       "<IPython.core.display.Image object>"
      ]
     },
     "metadata": {},
     "output_type": "display_data"
    }
   ],
   "source": [
    "g['sigmaTvsSR'].Draw('AP')\n",
    "g['sigmaTvsSR'].GetHistogram().GetXaxis().SetLimits(0.85,1.15)\n",
    "g['sigmaTvsSR'].GetHistogram().GetXaxis().SetRangeUser(0.85,1.15)\n",
    "g['sigmaTvsSR'].GetHistogram().GetYaxis().SetLimits(0.85,1.15)\n",
    "g['sigmaTvsSR'].GetHistogram().GetYaxis().SetRangeUser(0.85,1.15)\n",
    "#g['sigmaTvsSR_naked'].SetMarkerStyle(24)\n",
    "#g['sigmaTvsSR_naked'].SetMarkerSize(1.2)\n",
    "#g['sigmaTvsSR_naked'].Draw('PSAME')\n",
    "#g['sigmaTvsSR_noglue'].SetMarkerStyle(25)\n",
    "#g['sigmaTvsSR_noglue'].SetMarkerSize(1.2)\n",
    "#g['sigmaTvsSR_noglue'].Draw('PSAME')\n",
    "c1.Draw()"
   ]
  },
  {
   "cell_type": "code",
   "execution_count": 11,
   "id": "22570826-83dc-493b-a245-f5687b607a69",
   "metadata": {},
   "outputs": [
    {
     "data": {
      "image/png": "[encoded data removed]",
      "text/plain": [
       "<IPython.core.display.Image object>"
      ]
     },
     "metadata": {},
     "output_type": "display_data"
    }
   ],
   "source": [
    "b=R.TF1('b','x',-10.,10)\n",
    "g['SRvsLY'].Draw('AP')\n",
    "b.Draw('SAME')\n",
    "c1.Draw()"
   ]
  },
  {
   "cell_type": "code",
   "execution_count": 12,
   "id": "d31de83c-8d8d-4cd0-8303-fb9afdd98cf6",
   "metadata": {},
   "outputs": [
    {
     "data": {
      "image/png": "[encoded data removed]",
      "text/plain": [
       "<IPython.core.display.Image object>"
      ]
     },
     "metadata": {},
     "output_type": "display_data"
    }
   ],
   "source": [
    "#SlewRate vs LY/tau\n",
    "g['SRvsLYDT'].Draw('AP')\n",
    "g['SRvsLYDT'].GetHistogram().GetXaxis().SetLimits(0.85,1.25)\n",
    "g['SRvsLYDT'].GetHistogram().GetXaxis().SetRangeUser(0.85,1.25)\n",
    "g['SRvsLYDT'].GetHistogram().GetYaxis().SetLimits(0.85,1.15)\n",
    "g['SRvsLYDT'].GetHistogram().GetYaxis().SetRangeUser(0.85,1.15)\n",
    "g['SRvsLYDT_naked'].SetMarkerStyle(24)\n",
    "g['SRvsLYDT_naked'].SetMarkerSize(1.2)\n",
    "g['SRvsLYDT_naked'].Draw('PSAME')\n",
    "g['SRvsLYDT_noglue'].SetMarkerStyle(25)\n",
    "g['SRvsLYDT_noglue'].SetMarkerSize(1.2)\n",
    "g['SRvsLYDT_noglue'].Draw('PSAME')\n",
    "b.Draw('SAME')\n",
    "#g['SRvsLYDT'].Fit('pol1')\n",
    "c1.Draw()"
   ]
  },
  {
   "cell_type": "code",
   "execution_count": 13,
   "id": "a8100d21-d680-4df6-b6f8-038778a36647",
   "metadata": {},
   "outputs": [
    {
     "name": "stdout",
     "output_type": "stream",
     "text": [
      "x[0]=1, y[0]=1.13666, ex[0]=0.5, ey[0]=0.04\n",
      "x[1]=2, y[1]=1.06847, ex[1]=0.5, ey[1]=0.04\n",
      "x[2]=3, y[2]=1.12111, ex[2]=0.5, ey[2]=0.04\n",
      "x[3]=4, y[3]=1.14097, ex[3]=0.5, ey[3]=0.04\n",
      "x[4]=8, y[4]=1.18539, ex[4]=0.5, ey[4]=0.04\n",
      "x[5]=9, y[5]=1.19089, ex[5]=0.5, ey[5]=0.04\n",
      "x[6]=10, y[6]=1.16341, ex[6]=0.5, ey[6]=0.04\n"
     ]
    },
    {
     "data": {
      "image/png": "[encoded data removed]",
      "text/plain": [
       "<IPython.core.display.Image object>"
      ]
     },
     "metadata": {},
     "output_type": "display_data"
    }
   ],
   "source": [
    "g['LYDT'].Draw('AP*')\n",
    "g['LYDT'].GetHistogram().GetYaxis().SetLimits(100.,160.)\n",
    "g['LYDT'].GetHistogram().GetYaxis().SetRangeUser(100.,160.)\n",
    "g['LYDT_naked'].SetMarkerStyle(24)\n",
    "g['LYDT_naked'].SetMarkerSize(1.2)\n",
    "g['LYDT_naked'].Draw('PSAME')\n",
    "g['LYDT_noglue'].SetMarkerStyle(25)\n",
    "g['LYDT_noglue'].SetMarkerSize(1.2)\n",
    "g['LYDT_noglue'].Draw('PSAME')\n",
    "g['LYDT_ratio']=R.TGraphErrors()\n",
    "ip=0\n",
    "for i in range(g['LYDT'].GetN()):\n",
    "    for i1 in range(g['LYDT_naked'].GetN()):\n",
    "        if g['LYDT'].GetX()[i]==g['LYDT_naked'].GetX()[i1]:\n",
    "            g['LYDT_ratio'].SetPoint(ip,g['LYDT'].GetX()[i],g['LYDT_naked'].GetY()[i]/g['LYDT'].GetY()[i])\n",
    "            g['LYDT_ratio'].SetPointError(ip,0.5,0.04)\n",
    "            ip+=1\n",
    "            break\n",
    "\n",
    "g['LYDT_ratio'].Print()\n",
    "c1.Draw()"
   ]
  },
  {
   "cell_type": "code",
   "execution_count": 14,
   "id": "91c15b14-41f9-4c66-94f7-f13b2b087d7c",
   "metadata": {},
   "outputs": [
    {
     "data": {
      "image/png": "[encoded data removed]",
      "text/plain": [
       "<IPython.core.display.Image object>"
      ]
     },
     "metadata": {},
     "output_type": "display_data"
    }
   ],
   "source": [
    "g['LYDT_ratio'].Draw('AP')\n",
    "c1.Draw()"
   ]
  },
  {
   "cell_type": "code",
   "execution_count": null,
   "id": "412cc606-aa23-4fec-9311-40ae1e2f0c21",
   "metadata": {},
   "outputs": [],
   "source": []
  }
 ],
 "metadata": {
  "kernelspec": {
   "display_name": "Python 3 (ipykernel)",
   "language": "python",
   "name": "python3"
  },
  "language_info": {
   "codemirror_mode": {
    "name": "ipython",
    "version": 3
   },
   "file_extension": ".py",
   "mimetype": "text/x-python",
   "name": "python",
   "nbconvert_exporter": "python",
   "pygments_lexer": "ipython3",
   "version": "3.8.10"
  }
 },
 "nbformat": 4,
 "nbformat_minor": 5
}
